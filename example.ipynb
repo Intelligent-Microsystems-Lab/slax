{
 "cells": [
  {
   "cell_type": "code",
   "execution_count": 44,
   "metadata": {},
   "outputs": [],
   "source": [
    "import slax as sl\n",
    "import os\n",
    "#os.environ[\"ENABLE_PJRT_COMPATIBILITY\"] = \"1\"\n",
    "#import flax.linen as nn\n",
    "from flax import nnx\n",
    "import jax.numpy as jnp\n",
    "import jax\n",
    "import optax\n",
    "import pickle\n",
    "from jax.tree_util import tree_map, Partial, tree_leaves, tree_structure, tree_unflatten\n",
    "import matplotlib.pyplot as plt\n",
    "from functools import partial"
   ]
  },
  {
   "cell_type": "code",
   "execution_count": 1,
   "metadata": {},
   "outputs": [],
   "source": [
    "import numpy as np"
   ]
  },
  {
   "cell_type": "code",
   "execution_count": 22,
   "metadata": {},
   "outputs": [],
   "source": [
    "a = np.load('/Users/thomas/Downloads/spyx_xla_0.npy')"
   ]
  },
  {
   "cell_type": "code",
   "execution_count": 26,
   "metadata": {},
   "outputs": [
    {
     "data": {
      "text/plain": [
       "np.float64(3.9083370685577394)"
      ]
     },
     "execution_count": 26,
     "metadata": {},
     "output_type": "execute_result"
    }
   ],
   "source": [
    "a[2,0,0]"
   ]
  },
  {
   "cell_type": "code",
   "execution_count": 45,
   "metadata": {},
   "outputs": [],
   "source": [
    "input_sz = 64\n",
    "output_sz = 10\n",
    "seq_len = 50\n",
    "manifold_key = jax.random.PRNGKey(0)\n",
    "random_seed = manifold_key\n",
    "key = manifold_key\n",
    "batch_sz = 32\n",
    "dtype = jnp.float32\n",
    "n_steps = 5000\n",
    "nnx_key = nnx.Rngs(0)"
   ]
  },
  {
   "cell_type": "code",
   "execution_count": 46,
   "metadata": {},
   "outputs": [],
   "source": [
    "# import jax\n",
    "# import jax.numpy as jnp\n",
    "# import flax.linen as nn\n",
    "# from flax import nnx\n",
    "# from typing import Any, Sequence\n",
    "# from jax.tree_util import Partial, tree_leaves, tree_map\n",
    "# from jax.lax import stop_gradient as stop_grad\n",
    "# from jax.flatten_util import ravel_pytree\n",
    "# from slax.models.utils import reinit_model, connect, RNN\n",
    "# from slax.train.helpers import output, sum_output, diag, rtrl_update\n",
    "# from functools import partial\n",
    "\n",
    "# def diag_rtrl_update(a,b,c):\n",
    "#     def custom_mul(x,y):\n",
    "#         if len(y.shape) == 3:\n",
    "#             return jnp.einsum('...ibj,bij->b...j',x,y)\n",
    "#         else:\n",
    "#             print(x.shape)\n",
    "#             print(y.shape)\n",
    "#             return jnp.einsum('...jbi,bjki->b...ki',x,y)\n",
    "#     return jax.tree.map(lambda x,y: custom_mul(a,x)+y,b,c)\n",
    "\n",
    "\n",
    "# class diag_rtrl(nnx.Module):\n",
    "#     def __init__(self, mdl, batch_sz, diagonal_sum=True):\n",
    "#         self.mdl = mdl\n",
    "#         graph,param,state = nnx.split(mdl,nnx.Param,...)\n",
    "#         E = [jax.tree.map(jnp.zeros_like,param)]*len(jax.tree.leaves(state))\n",
    "#         self.E = nnx.Variable(jax.tree.map(lambda *args: jnp.stack(batch_sz*[jnp.stack(args)]),*E))\n",
    "#         self.diagonal_sum = diagonal_sum\n",
    "#     @nnx.jit\n",
    "#     def __call__(self,x):\n",
    "#         @jax.custom_vjp\n",
    "#         def exec_model(graph,param,state,E,x):\n",
    "#             model = nnx.merge(graph,param,state)\n",
    "#             out = model(x)\n",
    "#             return out, nnx.split(model,nnx.Param,...)[2], E\n",
    "        \n",
    "#         def exec(graph,param,state,E,x):\n",
    "#             if self.diagonal_sum:\n",
    "#                 ((ds_dp,ds_du),(du_dp,du_du)),(out,state,f_vjp) = jax.jacrev(sum_output,argnums=[1,2],has_aux=True)(graph,param,state,x)\n",
    "#             else:\n",
    "#                 grads,(out,state,f_vjp) = jax.jacrev(output,argnums=[1,2],has_aux=True)(graph,param,state,x)\n",
    "#                 (ds_grad),(du_dp,du_du) = jax.tree.map(diag,grads)\n",
    "#                 ds_dp,ds_du = jax.tree.map(lambda x: x[0],ds_grad)\n",
    "            \n",
    "#             ds_du, du_du = jnp.stack(jax.tree.leaves(ds_du)), jnp.stack(jax.tree.leaves(du_du))\n",
    "#             #print(du_du)\n",
    "        \n",
    "#             ds_dtheta = diag_rtrl_update(ds_du,E,ds_dp)\n",
    "\n",
    "#             print(ds_dtheta)\n",
    "#             E = diag_rtrl_update(du_du,E,du_dp)\n",
    "#             #print(E)\n",
    "\n",
    "#             return (out,state,E), (ds_dtheta,f_vjp)\n",
    "\n",
    "#         def exec_bwd(res,g):\n",
    "#             ds_dtheta,f_vjp = res\n",
    "#             grad = jax.tree.map(lambda x: jnp.einsum('bj,b...j->...j',g[0],x),ds_dtheta)\n",
    "#             passback = jax.tree.leaves(f_vjp(g[0]))[0]\n",
    "#             #print(grad)\n",
    "#             return (None,grad,None,None,passback)\n",
    "\n",
    "#         exec_model.defvjp(exec, exec_bwd)\n",
    "#         graph, param, state = nnx.split(self.mdl,nnx.Param,...)\n",
    "#         #vp_exec = partial(jax.vmap(partial(exec_model,graph,param)),state,self.E.value)\n",
    "#         if len(x.shape)<2:\n",
    "#             x = x.reshape(1,-1)\n",
    "#         #out,state,E = vp_exec(x)\n",
    "#         out,state,E = exec_model(graph,param,state,self.E.value,x)\n",
    "#         self.E.value = E\n",
    "#         nnx.update(self.mdl,state)\n",
    "#         return out"
   ]
  },
  {
   "cell_type": "code",
   "execution_count": 47,
   "metadata": {},
   "outputs": [],
   "source": [
    "import jax\n",
    "import jax.numpy as jnp\n",
    "import flax.linen as nn\n",
    "from flax import nnx\n",
    "from typing import Any, Sequence\n",
    "from jax.tree_util import Partial, tree_leaves, tree_map\n",
    "from jax.lax import stop_gradient as stop_grad\n",
    "from jax.flatten_util import ravel_pytree\n",
    "from slax.models.utils import reinit_model, connect, RNN\n",
    "from slax.train.helpers import output, sum_output, diag, rtrl_update, diag_rtrl_update\n",
    "from functools import partial\n",
    "\n",
    "class diag_rtrl(nnx.Module):\n",
    "    def __init__(self, mdl, batch_sz, diagonal_sum=True):\n",
    "        self.mdl = mdl\n",
    "        graph,param,state = nnx.split(mdl,nnx.Param,...)\n",
    "        E = [jax.tree.map(jnp.zeros_like,param)]*len(jax.tree.leaves(state))\n",
    "        self.E = nnx.Variable(jax.tree.map(lambda *args: jnp.stack(batch_sz*[jnp.stack(args)]),*E))\n",
    "        self.diagonal_sum = diagonal_sum\n",
    "    @nnx.jit\n",
    "    def __call__(self,x):\n",
    "        @jax.custom_vjp\n",
    "        def exec_model(graph,param,state,E,x):\n",
    "            model = nnx.merge(graph,param,state)\n",
    "            out = model(x)\n",
    "            return out, nnx.split(model,nnx.Param,...)[2], E\n",
    "        \n",
    "        def exec(graph,param,state,E,x):\n",
    "            if self.diagonal_sum:\n",
    "                ((ds_dp,ds_du),(du_dp,du_du)),(out,state,f_vjp) = jax.jacrev(sum_output,argnums=[1,2],has_aux=True)(graph,param,state,x)\n",
    "            else:\n",
    "                grads,(out,state,f_vjp) = jax.jacrev(output,argnums=[1,2],has_aux=True)(graph,param,state,x)\n",
    "                (ds_grad),(du_dp,du_du) = jax.tree.map(diag,grads)\n",
    "                ds_dp,ds_du = jax.tree.map(lambda x: x[0],ds_grad)\n",
    "            \n",
    "            ds_du, du_du = jnp.stack(jax.tree.leaves(ds_du)), jnp.stack(jax.tree.leaves(du_du))\n",
    "        \n",
    "            ds_dtheta = diag_rtrl_update(ds_du,E,ds_dp)\n",
    "            E = diag_rtrl_update(du_du,E,du_dp)\n",
    "            #print(self.E)\n",
    "            #print(E)\n",
    "            #self.E.value = E\n",
    "\n",
    "            return (out,state,E), (ds_dtheta,f_vjp)\n",
    "\n",
    "        def exec_bwd(res,g):\n",
    "            ds_dtheta,f_vjp = res\n",
    "            grad = jax.tree.map(lambda x: g[0]*x,ds_dtheta)\n",
    "            passback = jax.tree.leaves(f_vjp(g[0]))[0]\n",
    "            #print(g)\n",
    "            return (None,grad,None,None,passback)\n",
    "        \n",
    "        exec_model.defvjp(exec, exec_bwd)\n",
    "        graph, param, state = nnx.split(self.mdl,nnx.Param,...)\n",
    "        vp_exec = partial(jax.vmap(partial(exec_model,graph,param)),state,self.E.value)\n",
    "        if len(x.shape)<2:\n",
    "            x = x.reshape(1,-1)\n",
    "        try:\n",
    "            out,state,E = vp_exec(x)\n",
    "        except:\n",
    "            vp_exec = partial(jax.vmap(partial(exec_model,graph,param,state)),self.E.value)\n",
    "            out,state,E = vp_exec(x)\n",
    "        self.E.value = E\n",
    "        nnx.update(self.mdl,state)\n",
    "        return out"
   ]
  },
  {
   "cell_type": "code",
   "execution_count": 48,
   "metadata": {},
   "outputs": [],
   "source": [
    "# import jax\n",
    "# import jax.numpy as jnp\n",
    "# import flax.linen as nn\n",
    "# from flax import nnx\n",
    "# from typing import Any, Sequence\n",
    "# from jax.tree_util import Partial, tree_leaves, tree_map\n",
    "# from jax.lax import stop_gradient as stop_grad\n",
    "# from jax.flatten_util import ravel_pytree\n",
    "# from slax.models.utils import reinit_model, connect, RNN\n",
    "# from slax.train.helpers import output, sum_output, diag, rtrl_update, diag_rtrl_update\n",
    "# from functools import partial\n",
    "\n",
    "# class diag_rtrl(nnx.Module):\n",
    "#     def __init__(self, mdl, input, diagonal_sum=True):\n",
    "#         self.mdl = mdl\n",
    "#         graph,param,state = nnx.split(mdl,nnx.Param,...)\n",
    "#         E = [jax.tree.map(lambda x: jnp.zeros(x.size),param)]*len(jax.tree.leaves(state))\n",
    "#         #self.E = nnx.Variable(jax.tree.map(lambda *args: jnp.stack(batch_sz*[jnp.stack(args)]),*E))\n",
    "#         self.E = nnx.Variable(jax.tree.map(lambda *args: jnp.stack(args),*E))\n",
    "#         self.diagonal_sum = diagonal_sum\n",
    "#     @nnx.jit\n",
    "#     def __call__(self,x):\n",
    "#         @jax.custom_vjp\n",
    "#         def exec_model(graph,param,state,E,x):\n",
    "#             model = nnx.merge(graph,param,state)\n",
    "#             out = model(x)\n",
    "#             return out, nnx.split(model,nnx.Param,...)[2], E\n",
    "        \n",
    "#         def exec(graph,param,state,E,x):\n",
    "#             if self.diagonal_sum:\n",
    "#                 ((ds_dp,ds_du),(du_dp,du_du)),(out,state,f_vjp) = jax.jacrev(sum_output,argnums=[1,2],has_aux=True)(graph,param,state,x)\n",
    "#             else:\n",
    "#                 grads,(out,state,f_vjp) = jax.jacrev(output,argnums=[1,2],has_aux=True)(graph,param,state,x)\n",
    "#                 (ds_grad),(du_dp,du_du) = jax.tree.map(diag,grads)\n",
    "#                 ds_dp,ds_du = jax.tree.map(lambda x: x[0],ds_grad)\n",
    "            \n",
    "#             #print(du_du)\n",
    "#             #print(ds_du)\n",
    "#             ds_du, du_du = jnp.stack(jax.tree.leaves(ds_du)), jnp.stack(jax.tree.leaves(du_du))\n",
    "        \n",
    "#             ds_dtheta = diag_rtrl_update(ds_du,E,ds_dp)\n",
    "#             E = diag_rtrl_update(du_du,E,du_dp)\n",
    "\n",
    "#             return (out,state,E), (ds_dtheta,f_vjp)\n",
    "\n",
    "#         def exec_bwd(res,g):\n",
    "#             ds_dtheta,f_vjp = res\n",
    "#             grad = jax.tree.map(lambda x: g[0]*x,ds_dtheta)\n",
    "#             passback = jax.tree.leaves(f_vjp(g[0]))[0]\n",
    "#             return (None,grad,None,None,passback)\n",
    "        \n",
    "#         exec_model.defvjp(exec, exec_bwd)\n",
    "#         graph, param, state = nnx.split(self.mdl,nnx.Param,...)\n",
    "#         vp_exec = partial(jax.vmap(partial(exec_model,graph,param)),state,self.E.value)\n",
    "#         if len(x.shape)<2:\n",
    "#             x = x.reshape(1,-1)\n",
    "#         #try:\n",
    "#         out,state,E = exec_model(graph,param,state,self.E.value,x)\n",
    "#         # except:\n",
    "#         #     vp_exec = partial(jax.vmap(partial(exec_model,graph,param,state)),self.E.value)\n",
    "#         #     out,state,E = vp_exec(x)\n",
    "#         self.E.value = E\n",
    "#         nnx.update(self.mdl,state)\n",
    "#         return out"
   ]
  },
  {
   "cell_type": "code",
   "execution_count": 49,
   "metadata": {},
   "outputs": [],
   "source": [
    "import jax\n",
    "import jax.numpy as jnp\n",
    "import numpy as np\n",
    "import flax.linen as nn\n",
    "from flax import nnx\n",
    "from typing import Any, Sequence\n",
    "from jax.tree_util import Partial, tree_leaves, tree_map\n",
    "from jax.lax import stop_gradient as stop_grad\n",
    "from jax.flatten_util import ravel_pytree\n",
    "from slax.models.utils import reinit_model, connect, RNN\n",
    "from slax.train.helpers import output, sum_output, diag, rtrl_update, diag_rtrl_update\n",
    "from functools import partial\n",
    "\n",
    "def map_stack(x,len_state):\n",
    "    p_sum = lambda x,y: jnp.sum(x,axis=list(range(-1,-y -1,-1)))\n",
    "    out = jnp.stack(jax.tree.leaves(jax.tree.map(p_sum,x,len_state)))\n",
    "    #print(out)\n",
    "    return out\n",
    "\n",
    "def map_stack2(x,len_state):\n",
    "    p_sum = lambda y: jnp.sum(x,axis=list(range(-1,-y -1,-1)))\n",
    "    out = jnp.stack(jax.tree.leaves(jax.tree.map(p_sum,len_state)))\n",
    "    #print(out)\n",
    "    return out\n",
    "\n",
    "def sum_last(x):\n",
    "    return jnp.stack(jax.tree.leaves(jax.tree.map(partial(jnp.sum,axis=-1),(x,))))\n",
    "\n",
    "def sum_output(graph,param,state,x):\n",
    "    len_state = jax.tree.map(lambda x: len(x.shape),state)\n",
    "    def forward(x):\n",
    "        model = nnx.merge(graph,param,state)\n",
    "        out = model(x)\n",
    "        return out, nnx.split(model,nnx.Param,...)[2]\n",
    "    (out,f_vjp,state) = jax.vjp(forward,x,has_aux=True)\n",
    "    return (sum_last(out),sum_last(state),map_stack2(out,len_state),map_stack(state,len_state)),(out,state,f_vjp)\n",
    "\n",
    "def d_sum(a,b):\n",
    "    l = len(a.shape)\n",
    "    return jnp.einsum(a,list(range(l)),b,[0]+list(range(2,l-1))+[Ellipsis]+[l-1],list(range(1,l-1))+[Ellipsis]+[l-1])\n",
    "\n",
    "def d2_sum(a,b):\n",
    "    l = len(a.shape)\n",
    "    out = jnp.einsum(a,list(range(l)),b,list(range(l-1))+[Ellipsis]+[l-1],[Ellipsis]+[l-1])\n",
    "    return out\n",
    "\n",
    "def diag_rtrl_update(x,y,z):\n",
    "    b = jax.tree.map(lambda r,t: r+0*t,y,z)\n",
    "    out = jax.tree.map(lambda inp, ds: d_sum(x,inp) + ds,b,z)\n",
    "    return out\n",
    "\n",
    "def calc_grad(x,y):\n",
    "    out = jax.tree.map(lambda inp: d2_sum(x,inp),y)\n",
    "    return out\n",
    "\n",
    "def calc_E(state,params):\n",
    "    shape = jnp.stack(jax.tree.leaves(state)).shape[:-1]\n",
    "    E = jax.tree.map(lambda x: jnp.zeros(shape + x.shape),params)\n",
    "    return E\n",
    "\n",
    "\n",
    "class diag_rtrl(nnx.Module):\n",
    "    def __init__(self, mdl, diagonal_sum=True):\n",
    "        self.mdl = mdl\n",
    "        graph,param,state = nnx.split(mdl,nnx.Param,...)\n",
    "        self.E = nnx.Variable(jax.tree.map(lambda x: jnp.array([0.],dtype=x.dtype),param))\n",
    "        self.diagonal_sum = diagonal_sum\n",
    "    @nnx.jit\n",
    "    def __call__(self,x):\n",
    "        @jax.custom_vjp\n",
    "        def exec_model(graph,param,state,E,x):\n",
    "            model = nnx.merge(graph,param,state)\n",
    "            out = model(x)\n",
    "            state = nnx.split(model,nnx.Param,...)[2]\n",
    "            E = calc_E(state,param)\n",
    "            return out, state, E\n",
    "        #@jax.jit\n",
    "        def exec(graph,param,state,E,x):\n",
    "            if self.diagonal_sum:\n",
    "                ((ds_dp,_),(du_dp,_),(_,ds_du),(_,du_du)),(out,state,f_vjp) = jax.jacrev(sum_output,argnums=[1,2],has_aux=True)(graph,param,state,x)\n",
    "            else:\n",
    "                grads,(out,state,f_vjp) = jax.jacrev(output,argnums=[1,2],has_aux=True)(graph,param,state,x)\n",
    "                (ds_grad),(du_dp,du_du) = jax.tree.map(diag,grads)\n",
    "                ds_dp,ds_du = jax.tree.map(lambda x: x[0],ds_grad)\n",
    "            \n",
    "            ds_du, du_du = jnp.stack(jax.tree.leaves(ds_du)), jnp.stack(jax.tree.leaves(du_du))\n",
    "        \n",
    "            ds_dtheta = diag_rtrl_update(ds_du,E,ds_dp)\n",
    "            E = diag_rtrl_update(du_du,E,du_dp)\n",
    "            return (out,state,E), (ds_dtheta,f_vjp)\n",
    "\n",
    "        def exec_bwd(res,g):\n",
    "            ds_dtheta,f_vjp = res\n",
    "            gr = jnp.stack(jax.tree.leaves((g[0],)))\n",
    "            grad = calc_grad(gr,ds_dtheta)\n",
    "            passback = jax.tree.leaves(f_vjp(g[0]))[0]\n",
    "\n",
    "            return (None,grad,None,None,passback)\n",
    "        \n",
    "        exec_model.defvjp(exec, exec_bwd)\n",
    "        graph, param, state = nnx.split(self.mdl,nnx.Param,...)\n",
    "        out,state,E = exec_model(graph,param,state,self.E.value,x)\n",
    "        self.E.value = E\n",
    "        nnx.update(self.mdl,state)\n",
    "        return out"
   ]
  },
  {
   "cell_type": "code",
   "execution_count": 50,
   "metadata": {},
   "outputs": [],
   "source": [
    "import jax\n",
    "import jax.numpy as jnp\n",
    "import numpy as np\n",
    "import flax.linen as nn\n",
    "from flax import nnx\n",
    "from typing import Any, Sequence\n",
    "from jax.tree_util import Partial, tree_leaves, tree_map\n",
    "from jax.lax import stop_gradient as stop_grad\n",
    "from jax.flatten_util import ravel_pytree\n",
    "from slax.models.utils import reinit_model, connect, RNN\n",
    "from slax.train.helpers import output, sum_output, diag, rtrl_update, diag_rtrl_update\n",
    "from functools import partial\n",
    "\n",
    "def map_stack(x,len_state):\n",
    "    p_sum = lambda x,y: jnp.sum(x,axis=list(range(-1,-y -1,-1)))\n",
    "    out = jnp.stack(jax.tree.leaves(jax.tree.map(p_sum,x,len_state)))\n",
    "    return out\n",
    "\n",
    "def map_stack2(x,len_state):\n",
    "    p_sum = lambda y: jnp.sum(x,axis=list(range(-1,-y -1,-1)))\n",
    "    out = jnp.stack(jax.tree.leaves(jax.tree.map(p_sum,len_state)))\n",
    "    return out\n",
    "\n",
    "def sum_last(x):\n",
    "    return jnp.stack(jax.tree.leaves(jax.tree.map(partial(jnp.sum,axis=-1),(x,))))\n",
    "\n",
    "def sum_output(graph,param,state,x):\n",
    "    len_state = jax.tree.map(lambda x: len(x.shape),state)\n",
    "    def forward(x):\n",
    "        model = nnx.merge(graph,param,state)\n",
    "        out = model(x)\n",
    "        return out, nnx.split(model,nnx.Param,...)[2]\n",
    "    (out,f_vjp,state) = jax.vjp(forward,x,has_aux=True)\n",
    "    return (sum_last(out),sum_last(state),map_stack2(out,len_state),map_stack(state,len_state)),(out,state,f_vjp)\n",
    "\n",
    "def d_sum(a,b):\n",
    "    l = len(a.shape)\n",
    "    print('here')\n",
    "    l1 = list(range(l))\n",
    "    l2 = [0]+list(range(2,l-1))+[Ellipsis]+[l-1]\n",
    "    l3 = list(range(1,l-1))+[Ellipsis]+[l-1]\n",
    "    print(l1,l2,l3)\n",
    "    return jnp.einsum(a,list(range(l)),b,[0]+list(range(2,l-1))+[Ellipsis]+[l-1],list(range(1,l-1))+[Ellipsis]+[l-1])\n",
    "\n",
    "def d2_sum(a,b):\n",
    "    l = len(a.shape)\n",
    "    print('there')\n",
    "    out = jnp.einsum(a,list(range(l)),b,list(range(l-1))+[Ellipsis]+[l-1],[Ellipsis]+[l-1])\n",
    "    return out\n",
    "\n",
    "def diag_rtrl_update(x,y,z):\n",
    "    b = jax.tree.map(lambda r,t: r+0*t,y,z)\n",
    "    out = jax.tree.map(lambda inp, ds: d_sum(x,inp) + ds,b,z)\n",
    "    return out\n",
    "\n",
    "def calc_grad(x,y):\n",
    "    out = jax.tree.map(lambda inp: d2_sum(x,inp),y)\n",
    "    return out\n",
    "\n",
    "def calc_E(state,params):\n",
    "    shape = jnp.stack(jax.tree.leaves(state)).shape[:-1]\n",
    "    E = jax.tree.map(lambda x: jnp.zeros(shape + x.shape),params)\n",
    "    return E\n",
    "\n",
    "\n",
    "class diag_rtrl(nnx.Module):\n",
    "    def __init__(self, mdl, diagonal_sum=True):\n",
    "        self.mdl = mdl\n",
    "        graph,param,state = nnx.split(mdl,nnx.Param,...)\n",
    "        self.E = nnx.Variable(jax.tree.map(lambda x: jnp.array([0.],dtype=x.dtype),param))\n",
    "        self.diagonal_sum = diagonal_sum\n",
    "    @nnx.jit\n",
    "    def __call__(self,x):\n",
    "        @jax.custom_vjp\n",
    "        def exec_model(graph,param,state,E,x):\n",
    "            model = nnx.merge(graph,param,state)\n",
    "            out = model(x)\n",
    "            state = nnx.split(model,nnx.Param,...)[2]\n",
    "            E = calc_E(state,param)\n",
    "            return out, state, E\n",
    "        #@jax.jit\n",
    "        def exec(graph,param,state,E,x):\n",
    "            if self.diagonal_sum:\n",
    "                ((ds_dp,_),(du_dp,_),(_,ds_du),(_,du_du)),(out,state,f_vjp) = jax.jacrev(sum_output,argnums=[1,2],has_aux=True)(graph,param,state,x)\n",
    "            else:\n",
    "                grads,(out,state,f_vjp) = jax.jacrev(output,argnums=[1,2],has_aux=True)(graph,param,state,x)\n",
    "                (ds_grad),(du_dp,du_du) = jax.tree.map(diag,grads)\n",
    "                ds_dp,ds_du = jax.tree.map(lambda x: x[0],ds_grad)\n",
    "            \n",
    "            ds_du, du_du = jnp.stack(jax.tree.leaves(ds_du)), jnp.stack(jax.tree.leaves(du_du))\n",
    "        \n",
    "            ds_dtheta = diag_rtrl_update(ds_du,E,ds_dp)\n",
    "            E = diag_rtrl_update(du_du,E,du_dp)\n",
    "            return (out,state,E), (ds_dtheta,f_vjp)\n",
    "\n",
    "        def exec_bwd(res,g):\n",
    "            ds_dtheta,f_vjp = res\n",
    "            gr = jnp.stack(jax.tree.leaves((g[0],)))\n",
    "            grad = calc_grad(gr,ds_dtheta)\n",
    "            passback = jax.tree.leaves(f_vjp(g[0]))[0]\n",
    "\n",
    "            return (None,grad,None,None,passback)\n",
    "        \n",
    "        exec_model.defvjp(exec, exec_bwd)\n",
    "        graph, param, state = nnx.split(self.mdl,nnx.Param,...)\n",
    "        out,state,E = exec_model(graph,param,state,self.E.value,x)\n",
    "        self.E.value = E\n",
    "        nnx.update(self.mdl,state)\n",
    "        return out"
   ]
  },
  {
   "cell_type": "code",
   "execution_count": null,
   "metadata": {},
   "outputs": [],
   "source": [
    "class OTTT(nnx.Module):\n",
    "    def __init__(self, mdl, diagonal_sum=True):\n",
    "        self.mdl = mdl\n",
    "        graph,param,state = nnx.split(mdl,nnx.Param,...)\n",
    "        self.E = nnx.Variable(jax.tree.map(lambda x: jnp.array([0.],dtype=x.dtype),param))\n",
    "        self.diagonal_sum = diagonal_sum\n",
    "    @nnx.jit\n",
    "    def __call__(self,x):\n",
    "        @jax.custom_vjp\n",
    "        def exec_model(graph,param,state,E,x):\n",
    "            model = nnx.merge(graph,param,state)\n",
    "            out = model(x)\n",
    "            state = nnx.split(model,nnx.Param,...)[2]\n",
    "            E = calc_E(state,param)\n",
    "            return out, state, E\n",
    "        #@jax.jit\n",
    "        def exec(graph,param,state,E,x):\n",
    "            if self.diagonal_sum:\n",
    "                ((ds_dp,_),(du_dp,_),(_,ds_du),(_,du_du)),(out,state,f_vjp) = jax.jacrev(sum_output,argnums=[1,2],has_aux=True)(graph,param,state,x)\n",
    "            else:\n",
    "                grads,(out,state,f_vjp) = jax.jacrev(output,argnums=[1,2],has_aux=True)(graph,param,state,x)\n",
    "                (ds_grad),(du_dp,du_du) = jax.tree.map(diag,grads)\n",
    "                ds_dp,ds_du = jax.tree.map(lambda x: x[0],ds_grad)\n",
    "            \n",
    "            ds_du, du_du = jnp.stack(jax.tree.leaves(ds_du)), jnp.stack(jax.tree.leaves(du_du))\n",
    "        \n",
    "            ds_dtheta = diag_rtrl_update(ds_du,E,ds_dp)\n",
    "            E = diag_rtrl_update(du_du,E,du_dp)\n",
    "            return (out,state,E), (ds_dtheta,f_vjp)\n",
    "\n",
    "        def exec_bwd(res,g):\n",
    "            ds_dtheta,f_vjp = res\n",
    "            gr = jnp.stack(jax.tree.leaves((g[0],)))\n",
    "            grad = calc_grad(gr,ds_dtheta)\n",
    "            passback = jax.tree.leaves(f_vjp(g[0]))[0]\n",
    "\n",
    "            return (None,grad,None,None,passback)\n",
    "        \n",
    "        exec_model.defvjp(exec, exec_bwd)\n",
    "        graph, param, state = nnx.split(self.mdl,nnx.Param,...)\n",
    "        out,state,E = exec_model(graph,param,state,self.E.value,x)\n",
    "        self.E.value = E\n",
    "        nnx.update(self.mdl,state)\n",
    "        return out"
   ]
  },
  {
   "cell_type": "code",
   "execution_count": 51,
   "metadata": {},
   "outputs": [],
   "source": [
    "batch = sl.randman(manifold_key,random_seed,nb_classes=output_sz,nb_units=input_sz,nb_steps=seq_len,nb_samples=100,batch_sz=batch_sz,dim_manifold=2,alpha=2.,dtype=dtype)"
   ]
  },
  {
   "cell_type": "code",
   "execution_count": 52,
   "metadata": {},
   "outputs": [],
   "source": [
    "snn = sl.connect([nnx.Linear(64,100,rngs=nnx_key),\n",
    "                  sl.LIF(100),\n",
    "                  nnx.Linear(100,100,rngs=nnx_key),\n",
    "                  sl.LIF(100),\n",
    "                  nnx.Linear(100,100,rngs=nnx_key),\n",
    "                  sl.LIF(100)],cat={4:[1,2],2:[3]})"
   ]
  },
  {
   "cell_type": "code",
   "execution_count": 53,
   "metadata": {},
   "outputs": [],
   "source": [
    "snn(jnp.zeros_like(batch[0][0]));"
   ]
  },
  {
   "cell_type": "code",
   "execution_count": 54,
   "metadata": {},
   "outputs": [],
   "source": [
    "l1 = sl.connect([nnx.Linear(64,100,rngs=nnx_key),\n",
    "                  sl.LIF(100)])\n",
    "l2 = sl.connect([nnx.Linear(100,100,rngs=nnx_key),\n",
    "                  sl.LIF(100)])\n",
    "l3 = sl.connect([nnx.Linear(100,10,rngs=nnx_key),\n",
    "                  sl.LIF(10)])\n",
    "snn = sl.connect([l1,l2,l3])"
   ]
  },
  {
   "cell_type": "code",
   "execution_count": 55,
   "metadata": {},
   "outputs": [],
   "source": [
    "x = jax.random.truncated_normal(jax.random.PRNGKey(0),-0.5,2.,(20,32,64))"
   ]
  },
  {
   "cell_type": "code",
   "execution_count": 56,
   "metadata": {},
   "outputs": [],
   "source": [
    "import optax"
   ]
  },
  {
   "cell_type": "code",
   "execution_count": 57,
   "metadata": {},
   "outputs": [
    {
     "data": {
      "text/plain": [
       "GradientTransformationExtraArgs(init=<function chain.<locals>.init_fn at 0x158abdee0>, update=<function chain.<locals>.update_fn at 0x158abe020>)"
      ]
     },
     "execution_count": 57,
     "metadata": {},
     "output_type": "execute_result"
    }
   ],
   "source": [
    "optax.adam(0.001)"
   ]
  },
  {
   "cell_type": "code",
   "execution_count": 58,
   "metadata": {},
   "outputs": [],
   "source": [
    "snn = sl.connect([nnx.Linear(64,10,rngs=nnx.Rngs(0)),#nnx_key),\n",
    "                  sl.LIF(10)])\n",
    "#snn(jnp.zeros_like(batch[0][0]))\n",
    "g,p = nnx.split(snn)"
   ]
  },
  {
   "cell_type": "code",
   "execution_count": 59,
   "metadata": {},
   "outputs": [],
   "source": [
    "#graph1,p1,s1 = nnx.split(snn,nnx.Param,...)"
   ]
  },
  {
   "cell_type": "code",
   "execution_count": 60,
   "metadata": {},
   "outputs": [
    {
     "data": {
      "text/plain": [
       "(50, 32, 64)"
      ]
     },
     "execution_count": 60,
     "metadata": {},
     "output_type": "execute_result"
    }
   ],
   "source": [
    "batch[0].shape"
   ]
  },
  {
   "cell_type": "code",
   "execution_count": 61,
   "metadata": {},
   "outputs": [],
   "source": [
    "l1 = sl.connect([nnx.Conv(64,100,2,rngs=nnx.Rngs(0)),\n",
    "                  sl.LIF(100)])"
   ]
  },
  {
   "cell_type": "code",
   "execution_count": 62,
   "metadata": {},
   "outputs": [],
   "source": [
    "l1 = sl.diag_rtrl(l1)"
   ]
  },
  {
   "cell_type": "code",
   "execution_count": 63,
   "metadata": {},
   "outputs": [],
   "source": [
    "#l1(batch[0]).shape"
   ]
  },
  {
   "cell_type": "code",
   "execution_count": 64,
   "metadata": {},
   "outputs": [],
   "source": [
    "@nnx.grad\n",
    "def loss(snn):\n",
    "    snn(batch[0])\n",
    "    return jnp.sum(snn(batch[0]))"
   ]
  },
  {
   "cell_type": "code",
   "execution_count": 65,
   "metadata": {},
   "outputs": [
    {
     "name": "stdout",
     "output_type": "stream",
     "text": [
      "here\n",
      "[0, 1, 2, 3, 4] [0, 2, 3, Ellipsis, 4] [1, 2, 3, Ellipsis, 4]\n",
      "here\n",
      "[0, 1, 2, 3, 4] [0, 2, 3, Ellipsis, 4] [1, 2, 3, Ellipsis, 4]\n",
      "here\n",
      "[0, 1, 2, 3, 4] [0, 2, 3, Ellipsis, 4] [1, 2, 3, Ellipsis, 4]\n",
      "here\n",
      "[0, 1, 2, 3, 4] [0, 2, 3, Ellipsis, 4] [1, 2, 3, Ellipsis, 4]\n",
      "here\n",
      "[0, 1, 2, 3, 4] [0, 2, 3, Ellipsis, 4] [1, 2, 3, Ellipsis, 4]\n",
      "here\n",
      "[0, 1, 2, 3, 4] [0, 2, 3, Ellipsis, 4] [1, 2, 3, Ellipsis, 4]\n",
      "here\n",
      "[0, 1, 2, 3, 4] [0, 2, 3, Ellipsis, 4] [1, 2, 3, Ellipsis, 4]\n",
      "here\n",
      "[0, 1, 2, 3, 4] [0, 2, 3, Ellipsis, 4] [1, 2, 3, Ellipsis, 4]\n",
      "there\n",
      "there\n",
      "there\n",
      "there\n"
     ]
    },
    {
     "ename": "XlaRuntimeError",
     "evalue": "UNKNOWN: /var/folders/dq/p881jxbs2mv4605904hzdh_m0000gn/T/ipykernel_70667/247473262.py:4:19: error: failed to legalize operation 'mhlo.dot_general'\n/var/folders/dq/p881jxbs2mv4605904hzdh_m0000gn/T/ipykernel_70667/247473262.py:4:19: note: called from\n/var/folders/dq/p881jxbs2mv4605904hzdh_m0000gn/T/ipykernel_70667/3462137631.py:1:0: note: called from\n<frozen runpy>:88:4: note: called from\n<frozen runpy>:198:11: note: called from\n/var/folders/dq/p881jxbs2mv4605904hzdh_m0000gn/T/ipykernel_70667/247473262.py:4:19: note: see current operation: %667 = \"mhlo.dot_general\"(%1, %613) {dot_dimension_numbers = #mhlo.dot<lhs_batching_dimensions = [3], rhs_batching_dimensions = [3], lhs_contracting_dimensions = [0, 1, 2], rhs_contracting_dimensions = [0, 1, 2]>} : (tensor<1x50x32x100xf32>, tensor<1x50x32x100xf32>) -> tensor<100xf32>\n",
     "output_type": "error",
     "traceback": [
      "\u001b[0;31m---------------------------------------------------------------------------\u001b[0m",
      "\u001b[0;31mXlaRuntimeError\u001b[0m                           Traceback (most recent call last)",
      "Cell \u001b[0;32mIn[65], line 1\u001b[0m\n\u001b[0;32m----> 1\u001b[0m \u001b[43mnnx\u001b[49m\u001b[38;5;241;43m.\u001b[39;49m\u001b[43mjit\u001b[49m\u001b[43m(\u001b[49m\u001b[43mloss\u001b[49m\u001b[43m)\u001b[49m\u001b[43m(\u001b[49m\u001b[43ml1\u001b[49m\u001b[43m)\u001b[49m\n",
      "File \u001b[0;32m~/miniforge3/envs/snn/lib/python3.12/site-packages/flax/nnx/nnx/graph.py:1158\u001b[0m, in \u001b[0;36mUpdateContextManager.__call__.<locals>.update_context_manager_wrapper\u001b[0;34m(*args, **kwargs)\u001b[0m\n\u001b[1;32m   1155\u001b[0m \u001b[38;5;129m@functools\u001b[39m\u001b[38;5;241m.\u001b[39mwraps(f)\n\u001b[1;32m   1156\u001b[0m \u001b[38;5;28;01mdef\u001b[39;00m \u001b[38;5;21mupdate_context_manager_wrapper\u001b[39m(\u001b[38;5;241m*\u001b[39margs, \u001b[38;5;241m*\u001b[39m\u001b[38;5;241m*\u001b[39mkwargs):\n\u001b[1;32m   1157\u001b[0m   \u001b[38;5;28;01mwith\u001b[39;00m \u001b[38;5;28mself\u001b[39m:\n\u001b[0;32m-> 1158\u001b[0m     \u001b[38;5;28;01mreturn\u001b[39;00m \u001b[43mf\u001b[49m\u001b[43m(\u001b[49m\u001b[38;5;241;43m*\u001b[39;49m\u001b[43margs\u001b[49m\u001b[43m,\u001b[49m\u001b[43m \u001b[49m\u001b[38;5;241;43m*\u001b[39;49m\u001b[38;5;241;43m*\u001b[39;49m\u001b[43mkwargs\u001b[49m\u001b[43m)\u001b[49m\n",
      "File \u001b[0;32m~/miniforge3/envs/snn/lib/python3.12/site-packages/flax/nnx/nnx/transforms/compilation.py:343\u001b[0m, in \u001b[0;36mjit.<locals>.jit_wrapper\u001b[0;34m(*args, **kwargs)\u001b[0m\n\u001b[1;32m    334\u001b[0m \u001b[38;5;129m@functools\u001b[39m\u001b[38;5;241m.\u001b[39mwraps(fun)\n\u001b[1;32m    335\u001b[0m \u001b[38;5;129m@graph\u001b[39m\u001b[38;5;241m.\u001b[39mupdate_context(\u001b[38;5;124m'\u001b[39m\u001b[38;5;124mjit\u001b[39m\u001b[38;5;124m'\u001b[39m)\n\u001b[1;32m    336\u001b[0m \u001b[38;5;28;01mdef\u001b[39;00m \u001b[38;5;21mjit_wrapper\u001b[39m(\u001b[38;5;241m*\u001b[39margs, \u001b[38;5;241m*\u001b[39m\u001b[38;5;241m*\u001b[39mkwargs):\n\u001b[1;32m    337\u001b[0m   pure_args, pure_kwargs \u001b[38;5;241m=\u001b[39m extract\u001b[38;5;241m.\u001b[39mto_tree(\n\u001b[1;32m    338\u001b[0m     (args, kwargs),\n\u001b[1;32m    339\u001b[0m     prefix\u001b[38;5;241m=\u001b[39m(in_shardings, kwarg_shardings),\n\u001b[1;32m    340\u001b[0m     split_fn\u001b[38;5;241m=\u001b[39m_jit_split_fn,\n\u001b[1;32m    341\u001b[0m     ctxtag\u001b[38;5;241m=\u001b[39m\u001b[38;5;124m'\u001b[39m\u001b[38;5;124mjit\u001b[39m\u001b[38;5;124m'\u001b[39m,\n\u001b[1;32m    342\u001b[0m   )\n\u001b[0;32m--> 343\u001b[0m   pure_args_out, pure_kwargs_out, pure_out \u001b[38;5;241m=\u001b[39m \u001b[43mjitted_fn\u001b[49m\u001b[43m(\u001b[49m\n\u001b[1;32m    344\u001b[0m \u001b[43m    \u001b[49m\u001b[38;5;241;43m*\u001b[39;49m\u001b[43mpure_args\u001b[49m\u001b[43m,\u001b[49m\u001b[43m \u001b[49m\u001b[38;5;241;43m*\u001b[39;49m\u001b[38;5;241;43m*\u001b[39;49m\u001b[43mpure_kwargs\u001b[49m\n\u001b[1;32m    345\u001b[0m \u001b[43m  \u001b[49m\u001b[43m)\u001b[49m\n\u001b[1;32m    346\u001b[0m   _args_out, _kwargs_out, out \u001b[38;5;241m=\u001b[39m extract\u001b[38;5;241m.\u001b[39mfrom_tree(\n\u001b[1;32m    347\u001b[0m     (pure_args_out, pure_kwargs_out, pure_out), ctxtag\u001b[38;5;241m=\u001b[39m\u001b[38;5;124m'\u001b[39m\u001b[38;5;124mjit\u001b[39m\u001b[38;5;124m'\u001b[39m\n\u001b[1;32m    348\u001b[0m   )\n\u001b[1;32m    349\u001b[0m   \u001b[38;5;28;01mreturn\u001b[39;00m out\n",
      "    \u001b[0;31m[... skipping hidden 15 frame]\u001b[0m\n",
      "File \u001b[0;32m~/miniforge3/envs/snn/lib/python3.12/site-packages/jax/_src/compiler.py:267\u001b[0m, in \u001b[0;36mbackend_compile\u001b[0;34m(backend, module, options, host_callbacks)\u001b[0m\n\u001b[1;32m    261\u001b[0m     \u001b[38;5;28;01mreturn\u001b[39;00m backend\u001b[38;5;241m.\u001b[39mcompile(\n\u001b[1;32m    262\u001b[0m         built_c, compile_options\u001b[38;5;241m=\u001b[39moptions, host_callbacks\u001b[38;5;241m=\u001b[39mhost_callbacks\n\u001b[1;32m    263\u001b[0m     )\n\u001b[1;32m    264\u001b[0m   \u001b[38;5;66;03m# Some backends don't have `host_callbacks` option yet\u001b[39;00m\n\u001b[1;32m    265\u001b[0m   \u001b[38;5;66;03m# TODO(sharadmv): remove this fallback when all backends allow `compile`\u001b[39;00m\n\u001b[1;32m    266\u001b[0m   \u001b[38;5;66;03m# to take in `host_callbacks`\u001b[39;00m\n\u001b[0;32m--> 267\u001b[0m   \u001b[38;5;28;01mreturn\u001b[39;00m \u001b[43mbackend\u001b[49m\u001b[38;5;241;43m.\u001b[39;49m\u001b[43mcompile\u001b[49m\u001b[43m(\u001b[49m\u001b[43mbuilt_c\u001b[49m\u001b[43m,\u001b[49m\u001b[43m \u001b[49m\u001b[43mcompile_options\u001b[49m\u001b[38;5;241;43m=\u001b[39;49m\u001b[43moptions\u001b[49m\u001b[43m)\u001b[49m\n\u001b[1;32m    268\u001b[0m \u001b[38;5;28;01mexcept\u001b[39;00m xc\u001b[38;5;241m.\u001b[39mXlaRuntimeError \u001b[38;5;28;01mas\u001b[39;00m e:\n\u001b[1;32m    269\u001b[0m   \u001b[38;5;28;01mfor\u001b[39;00m error_handler \u001b[38;5;129;01min\u001b[39;00m _XLA_RUNTIME_ERROR_HANDLERS:\n",
      "\u001b[0;31mXlaRuntimeError\u001b[0m: UNKNOWN: /var/folders/dq/p881jxbs2mv4605904hzdh_m0000gn/T/ipykernel_70667/247473262.py:4:19: error: failed to legalize operation 'mhlo.dot_general'\n/var/folders/dq/p881jxbs2mv4605904hzdh_m0000gn/T/ipykernel_70667/247473262.py:4:19: note: called from\n/var/folders/dq/p881jxbs2mv4605904hzdh_m0000gn/T/ipykernel_70667/3462137631.py:1:0: note: called from\n<frozen runpy>:88:4: note: called from\n<frozen runpy>:198:11: note: called from\n/var/folders/dq/p881jxbs2mv4605904hzdh_m0000gn/T/ipykernel_70667/247473262.py:4:19: note: see current operation: %667 = \"mhlo.dot_general\"(%1, %613) {dot_dimension_numbers = #mhlo.dot<lhs_batching_dimensions = [3], rhs_batching_dimensions = [3], lhs_contracting_dimensions = [0, 1, 2], rhs_contracting_dimensions = [0, 1, 2]>} : (tensor<1x50x32x100xf32>, tensor<1x50x32x100xf32>) -> tensor<100xf32>\n"
     ]
    }
   ],
   "source": [
    "nnx.jit(loss)(l1)"
   ]
  },
  {
   "cell_type": "code",
   "execution_count": 23,
   "metadata": {},
   "outputs": [
    {
     "name": "stdout",
     "output_type": "stream",
     "text": [
      "here\n",
      "[0, 1, 2, 3, 4] [0, 2, 3, Ellipsis, 4] [1, 2, 3, Ellipsis, 4]\n",
      "here\n",
      "[0, 1, 2, 3, 4] [0, 2, 3, Ellipsis, 4] [1, 2, 3, Ellipsis, 4]\n",
      "here\n",
      "[0, 1, 2, 3, 4] [0, 2, 3, Ellipsis, 4] [1, 2, 3, Ellipsis, 4]\n",
      "here\n",
      "[0, 1, 2, 3, 4] [0, 2, 3, Ellipsis, 4] [1, 2, 3, Ellipsis, 4]\n",
      "there\n",
      "there\n"
     ]
    },
    {
     "data": {
      "text/plain": [
       "State({\n",
       "  'mdl': {\n",
       "    'chain': {\n",
       "      0: {\n",
       "        'bias': VariableState(\n",
       "          type=Param,\n",
       "          value=Array([36.859505, 34.669376, 42.61126 , 35.8621  , 53.016445, 53.236927,\n",
       "                 37.213726, 31.184767, 31.964853, 49.11505 , 44.383484, 42.263897,\n",
       "                 50.154522, 49.15603 , 42.22688 , 49.03219 , 36.944378, 41.569527,\n",
       "                 41.223507, 31.440027, 35.446568, 44.250008, 41.529305, 79.44324 ,\n",
       "                 35.325672, 41.03851 , 33.03958 , 54.344788, 45.67574 , 32.7691  ,\n",
       "                 66.08645 , 46.1172  , 43.919514, 57.4566  , 38.971127, 47.911144,\n",
       "                 46.625263, 21.642653, 39.134327, 28.507574, 66.46318 , 66.53866 ,\n",
       "                 40.005962, 32.81882 , 40.212605, 43.32193 , 34.516582, 55.11848 ,\n",
       "                 53.292496, 62.50898 , 33.44934 , 35.594994, 44.201965, 40.968525,\n",
       "                 60.474503, 38.183308, 25.913815, 50.615295, 36.270576, 45.56291 ,\n",
       "                 67.97275 , 42.040436, 52.78253 , 35.03741 , 28.569239, 32.636974,\n",
       "                 83.10499 , 37.43508 , 44.60581 , 19.355877, 25.49256 , 42.859016,\n",
       "                 23.333239, 33.195526, 71.81282 , 45.895195, 63.99669 , 31.187569,\n",
       "                 22.003857, 71.90461 , 37.69144 , 52.532402, 36.532497, 82.71603 ,\n",
       "                 28.040392, 52.633064, 39.34447 , 29.076916, 33.818707, 32.608593,\n",
       "                 29.322945, 56.542675, 36.89136 , 35.12956 , 48.169525, 42.67607 ,\n",
       "                 43.00471 , 40.10951 , 68.75623 , 22.114487], dtype=float32)\n",
       "        ),\n",
       "        'kernel': VariableState(\n",
       "          type=Param,\n",
       "          value=Array([[[2.117637  , 0.12077701, 0.14471428, ..., 1.2225684 ,\n",
       "                   0.6491041 , 0.06921981],\n",
       "                  [0.5349572 , 0.6602013 , 0.28438887, ..., 1.481152  ,\n",
       "                   1.3454653 , 0.5905105 ],\n",
       "                  [0.38433337, 1.9835212 , 0.8583923 , ..., 2.869487  ,\n",
       "                   3.8114185 , 5.3409705 ],\n",
       "                  ...,\n",
       "                  [1.4097894 , 1.8145877 , 5.8102345 , ..., 0.6932823 ,\n",
       "                   0.33023542, 0.62058496],\n",
       "                  [1.206228  , 1.4378114 , 0.80382   , ..., 0.20026064,\n",
       "                   3.8757238 , 0.25095963],\n",
       "                  [0.18437573, 1.8853939 , 0.7817585 , ..., 7.256383  ,\n",
       "                   1.4590994 , 0.17823195]],\n",
       "          \n",
       "                 [[0.8685298 , 1.2939477 , 0.7901819 , ..., 2.6710238 ,\n",
       "                   0.6849279 , 0.13925397],\n",
       "                  [0.22160521, 1.1746824 , 0.36208892, ..., 0.88277483,\n",
       "                   0.18483847, 0.19381022],\n",
       "                  [1.0668776 , 2.194659  , 3.3486004 , ..., 0.5479888 ,\n",
       "                   1.9586605 , 0.08134745],\n",
       "                  ...,\n",
       "                  [0.19717744, 0.30355778, 0.19313174, ..., 0.12447497,\n",
       "                   4.1761603 , 0.06701407],\n",
       "                  [0.96220565, 0.17050397, 0.75175333, ..., 0.2539136 ,\n",
       "                   2.1610782 , 0.8288711 ],\n",
       "                  [0.60592014, 0.34098965, 0.4170142 , ..., 1.2180595 ,\n",
       "                   2.188334  , 0.17394976]]], dtype=float32)\n",
       "        )\n",
       "      }\n",
       "    }\n",
       "  }\n",
       "})"
      ]
     },
     "execution_count": 23,
     "metadata": {},
     "output_type": "execute_result"
    }
   ],
   "source": [
    "loss(l1)"
   ]
  },
  {
   "cell_type": "code",
   "execution_count": 288,
   "metadata": {},
   "outputs": [],
   "source": [
    "l1 = sl.connect([nnx.Linear(64,100,rngs=nnx_key),\n",
    "                  sl.LIF(100)])\n",
    "l2 = sl.connect([nnx.Linear(100,100,rngs=nnx_key),\n",
    "                  sl.LIF(100)])\n",
    "l3 = sl.connect([nnx.Linear(100,10,rngs=nnx_key),\n",
    "                  sl.LIF(10)])\n",
    "snn = sl.connect([l1,l2,l3])"
   ]
  },
  {
   "cell_type": "code",
   "execution_count": 289,
   "metadata": {},
   "outputs": [],
   "source": [
    "gr1,s1 = nnx.split(l1)\n",
    "gr2,s2 = nnx.split(l2)\n",
    "gr3,s3 = nnx.split(l3)"
   ]
  },
  {
   "cell_type": "code",
   "execution_count": 290,
   "metadata": {},
   "outputs": [],
   "source": [
    "#batch = (x,batch[1])"
   ]
  },
  {
   "cell_type": "code",
   "execution_count": 291,
   "metadata": {},
   "outputs": [],
   "source": [
    "train_step = sl.train_offline(snn,optax.softmax_cross_entropy,optax.adam(0.01))"
   ]
  },
  {
   "cell_type": "code",
   "execution_count": 292,
   "metadata": {},
   "outputs": [],
   "source": [
    "for i in range(5):\n",
    "    train_step(batch)\n",
    "    batch = sl.randman(manifold_key,random_seed+i+1,nb_classes=output_sz,nb_units=input_sz,nb_steps=seq_len,nb_samples=100,batch_sz=batch_sz,dim_manifold=2,alpha=2.,dtype=dtype)"
   ]
  },
  {
   "cell_type": "code",
   "execution_count": 293,
   "metadata": {},
   "outputs": [],
   "source": [
    "gr1,s1 = nnx.split(snn.chain[0])\n",
    "gr2,s2 = nnx.split(snn.chain[1])\n",
    "gr3,s3 = nnx.split(snn.chain[2])"
   ]
  },
  {
   "cell_type": "code",
   "execution_count": 294,
   "metadata": {},
   "outputs": [],
   "source": [
    "train_step = sl.train_offline(snn,optax.softmax_cross_entropy,optax.adam(0.001))"
   ]
  },
  {
   "cell_type": "code",
   "execution_count": 295,
   "metadata": {},
   "outputs": [],
   "source": [
    "train_step(batch)"
   ]
  },
  {
   "cell_type": "code",
   "execution_count": 296,
   "metadata": {},
   "outputs": [],
   "source": [
    "g1 = train_step.grad"
   ]
  },
  {
   "cell_type": "code",
   "execution_count": 297,
   "metadata": {},
   "outputs": [],
   "source": [
    "l1 = nnx.merge(gr1,s1)\n",
    "l2 = nnx.merge(gr2,s2)\n",
    "l3 = nnx.merge(gr3,s3)\n",
    "snn = sl.connect([l1,l2,l3])\n",
    "\n",
    "train_step = sl.train_online_deferred(snn,optax.softmax_cross_entropy,optax.adam(0.001))\n",
    "train_step(batch)\n",
    "g3 = train_step.grad"
   ]
  },
  {
   "cell_type": "code",
   "execution_count": 298,
   "metadata": {},
   "outputs": [],
   "source": [
    "l1 = diag_rtrl(nnx.merge(gr1,s1),batch_sz)\n",
    "l2 = diag_rtrl(nnx.merge(gr2,s2),batch_sz)\n",
    "l3 = diag_rtrl(nnx.merge(gr3,s3),batch_sz)\n",
    "snn = sl.connect([l1,l2,l3])"
   ]
  },
  {
   "cell_type": "code",
   "execution_count": 299,
   "metadata": {},
   "outputs": [],
   "source": [
    "@nnx.grad\n",
    "def loss(snn):\n",
    "    return jnp.sum(snn(batch[0][0]))"
   ]
  },
  {
   "cell_type": "code",
   "execution_count": 300,
   "metadata": {},
   "outputs": [],
   "source": [
    "#snn(batch[0][0])"
   ]
  },
  {
   "cell_type": "code",
   "execution_count": 301,
   "metadata": {},
   "outputs": [],
   "source": [
    "#snn.chain[0].E"
   ]
  },
  {
   "cell_type": "code",
   "execution_count": 302,
   "metadata": {},
   "outputs": [],
   "source": [
    "#loss(snn)"
   ]
  },
  {
   "cell_type": "code",
   "execution_count": 303,
   "metadata": {},
   "outputs": [],
   "source": [
    "# mdl = sl.connect([nnx.Linear(64,10,rngs=nnx_key),\n",
    "#                   sl.LIF(10)])\n",
    "# g,p = nnx.split(mdl)\n",
    "#snn = diag_rtrl(nnx.merge(g,p),32,True)\n",
    "#snn(jnp.zeros_like(batch[0][0]))"
   ]
  },
  {
   "cell_type": "code",
   "execution_count": 304,
   "metadata": {},
   "outputs": [],
   "source": [
    "#g,p,s = nnx.split(snn,nnx.Param,...)\n",
    "#snn = nnx.merge(g,p,s)"
   ]
  },
  {
   "cell_type": "code",
   "execution_count": 305,
   "metadata": {},
   "outputs": [],
   "source": [
    "train_step = sl.train_online_deferred(snn,optax.softmax_cross_entropy,optax.adam(0.001))"
   ]
  },
  {
   "cell_type": "code",
   "execution_count": 306,
   "metadata": {},
   "outputs": [],
   "source": [
    "train_step(batch)"
   ]
  },
  {
   "cell_type": "code",
   "execution_count": 307,
   "metadata": {},
   "outputs": [],
   "source": [
    "g2 = train_step.grad"
   ]
  },
  {
   "cell_type": "code",
   "execution_count": 308,
   "metadata": {},
   "outputs": [],
   "source": [
    "ostl_alignment = sl.layerwise_cosine_similarity(jax.tree.leaves(g1),jax.tree.leaves(g2))"
   ]
  },
  {
   "cell_type": "code",
   "execution_count": 309,
   "metadata": {},
   "outputs": [],
   "source": [
    "bp_alignment = sl.layerwise_cosine_similarity(jax.tree.leaves(g1),jax.tree.leaves(g3))"
   ]
  },
  {
   "cell_type": "code",
   "execution_count": 310,
   "metadata": {},
   "outputs": [
    {
     "data": {
      "text/plain": [
       "[Array(0.771285, dtype=float32),\n",
       " Array(0.998138, dtype=float32),\n",
       " Array(1., dtype=float32)]"
      ]
     },
     "execution_count": 310,
     "metadata": {},
     "output_type": "execute_result"
    }
   ],
   "source": [
    "ostl_alignment[1::2]"
   ]
  },
  {
   "cell_type": "code",
   "execution_count": 311,
   "metadata": {},
   "outputs": [
    {
     "data": {
      "text/plain": [
       "[Array(0.3779749, dtype=float32),\n",
       " Array(0.767234, dtype=float32),\n",
       " Array(0.9948083, dtype=float32)]"
      ]
     },
     "execution_count": 311,
     "metadata": {},
     "output_type": "execute_result"
    }
   ],
   "source": [
    "bp_alignment[1::2]"
   ]
  },
  {
   "cell_type": "code",
   "execution_count": 312,
   "metadata": {},
   "outputs": [
    {
     "data": {
      "text/plain": [
       "<matplotlib.legend.Legend at 0x4327b9dc0>"
      ]
     },
     "execution_count": 312,
     "metadata": {},
     "output_type": "execute_result"
    },
    {
     "data": {
      "image/png": "[encoded data removed]",
      "text/plain": [
       "<Figure size 500x500 with 1 Axes>"
      ]
     },
     "metadata": {},
     "output_type": "display_data"
    }
   ],
   "source": [
    "plt.figure(figsize=(5,5))\n",
    "plt.bar([0.05,1.05,2.05],ostl_alignment[1::2][::-1],0.4,color='#7fc97f',edgecolor='k')\n",
    "plt.bar([0.45,1.45,2.45],bp_alignment[1::2][::-1],0.4,color='#beaed4',edgecolor='k')\n",
    "plt.xticks([0.25,1.25,2.25],['Output','Layer 2','Layer 1'])\n",
    "plt.xlabel('Layer Kernel',fontsize=16)\n",
    "plt.ylabel('Gradient Cosine Similarity to BPTT',fontsize=16)\n",
    "plt.legend(['OSTL','BackProp (No Unrolling)'])"
   ]
  },
  {
   "cell_type": "code",
   "execution_count": 313,
   "metadata": {},
   "outputs": [],
   "source": [
    "@nnx.jit\n",
    "@nnx.grad\n",
    "def loss(mdl,x):\n",
    "    return jnp.sum(mdl(x))"
   ]
  },
  {
   "cell_type": "code",
   "execution_count": 314,
   "metadata": {},
   "outputs": [
    {
     "ename": "NameError",
     "evalue": "name 'ostl' is not defined",
     "output_type": "error",
     "traceback": [
      "\u001b[0;31m---------------------------------------------------------------------------\u001b[0m",
      "\u001b[0;31mNameError\u001b[0m                                 Traceback (most recent call last)",
      "Cell \u001b[0;32mIn[314], line 1\u001b[0m\n\u001b[0;32m----> 1\u001b[0m jnp\u001b[38;5;241m.\u001b[39msum(jax\u001b[38;5;241m.\u001b[39mtree\u001b[38;5;241m.\u001b[39mleaves(\u001b[43mostl\u001b[49m\u001b[38;5;241m.\u001b[39mE\u001b[38;5;241m.\u001b[39mvalue)[\u001b[38;5;241m1\u001b[39m])\n",
      "\u001b[0;31mNameError\u001b[0m: name 'ostl' is not defined"
     ]
    }
   ],
   "source": [
    "jnp.sum(jax.tree.leaves(ostl.E.value)[1])"
   ]
  },
  {
   "cell_type": "code",
   "execution_count": 438,
   "metadata": {},
   "outputs": [
    {
     "name": "stdout",
     "output_type": "stream",
     "text": [
      "State({\n",
      "  'chain': {\n",
      "    0: {\n",
      "      'chain': {\n",
      "        1: {\n",
      "          'Vmem': VariableState(\n",
      "            type=Variable,\n",
      "            value=Traced<ShapedArray(float32[3,100])>with<BatchTrace(level=5/0)> with\n",
      "              val = Traced<ShapedArray(float32[32,3,100])>with<DynamicJaxprTrace(level=4/0)>\n",
      "              batch_dim = 0\n",
      "          )\n",
      "        }\n",
      "      }\n",
      "    },\n",
      "    1: {\n",
      "      'chain': {\n",
      "        1: {\n",
      "          'Vmem': VariableState(\n",
      "            type=Variable,\n",
      "            value=Traced<ShapedArray(float32[3,100])>with<BatchTrace(level=5/0)> with\n",
      "              val = Traced<ShapedArray(float32[32,3,100])>with<DynamicJaxprTrace(level=4/0)>\n",
      "              batch_dim = 0\n",
      "          )\n",
      "        }\n",
      "      }\n",
      "    },\n",
      "    2: {\n",
      "      'chain': {\n",
      "        1: {\n",
      "          'Vmem': VariableState(\n",
      "            type=Variable,\n",
      "            value=Traced<ShapedArray(float32[3,10])>with<BatchTrace(level=5/0)> with\n",
      "              val = Traced<ShapedArray(float32[32,3,10])>with<DynamicJaxprTrace(level=4/0)>\n",
      "              batch_dim = 0\n",
      "          )\n",
      "        }\n",
      "      }\n",
      "    }\n",
      "  }\n",
      "})\n"
     ]
    },
    {
     "ename": "ValueError",
     "evalue": "All input arrays must have the same shape.",
     "output_type": "error",
     "traceback": [
      "\u001b[0;31m---------------------------------------------------------------------------\u001b[0m",
      "\u001b[0;31mJaxStackTraceBeforeTransformation\u001b[0m         Traceback (most recent call last)",
      "File \u001b[0;32m<frozen runpy>:198\u001b[0m, in \u001b[0;36m_run_module_as_main\u001b[0;34m()\u001b[0m\n",
      "File \u001b[0;32m<frozen runpy>:88\u001b[0m, in \u001b[0;36m_run_code\u001b[0;34m()\u001b[0m\n",
      "File \u001b[0;32m~/miniforge3/envs/jax/lib/python3.11/site-packages/ipykernel_launcher.py:17\u001b[0m\n\u001b[1;32m     15\u001b[0m \u001b[38;5;28;01mfrom\u001b[39;00m \u001b[38;5;21;01mipykernel\u001b[39;00m \u001b[38;5;28;01mimport\u001b[39;00m kernelapp \u001b[38;5;28;01mas\u001b[39;00m app\n\u001b[0;32m---> 17\u001b[0m app\u001b[38;5;241m.\u001b[39mlaunch_new_instance()\n",
      "File \u001b[0;32m~/miniforge3/envs/jax/lib/python3.11/site-packages/traitlets/config/application.py:1043\u001b[0m, in \u001b[0;36mlaunch_instance\u001b[0;34m()\u001b[0m\n\u001b[1;32m   1042\u001b[0m app\u001b[38;5;241m.\u001b[39minitialize(argv)\n\u001b[0;32m-> 1043\u001b[0m app\u001b[38;5;241m.\u001b[39mstart()\n",
      "File \u001b[0;32m~/miniforge3/envs/jax/lib/python3.11/site-packages/ipykernel/kernelapp.py:736\u001b[0m, in \u001b[0;36mstart\u001b[0;34m()\u001b[0m\n\u001b[1;32m    735\u001b[0m \u001b[38;5;28;01mtry\u001b[39;00m:\n\u001b[0;32m--> 736\u001b[0m     \u001b[38;5;28mself\u001b[39m\u001b[38;5;241m.\u001b[39mio_loop\u001b[38;5;241m.\u001b[39mstart()\n\u001b[1;32m    737\u001b[0m \u001b[38;5;28;01mexcept\u001b[39;00m \u001b[38;5;167;01mKeyboardInterrupt\u001b[39;00m:\n",
      "File \u001b[0;32m~/miniforge3/envs/jax/lib/python3.11/site-packages/tornado/platform/asyncio.py:195\u001b[0m, in \u001b[0;36mstart\u001b[0;34m()\u001b[0m\n\u001b[1;32m    194\u001b[0m \u001b[38;5;28;01mdef\u001b[39;00m \u001b[38;5;21mstart\u001b[39m(\u001b[38;5;28mself\u001b[39m) \u001b[38;5;241m-\u001b[39m\u001b[38;5;241m>\u001b[39m \u001b[38;5;28;01mNone\u001b[39;00m:\n\u001b[0;32m--> 195\u001b[0m     \u001b[38;5;28mself\u001b[39m\u001b[38;5;241m.\u001b[39masyncio_loop\u001b[38;5;241m.\u001b[39mrun_forever()\n",
      "File \u001b[0;32m~/miniforge3/envs/jax/lib/python3.11/asyncio/base_events.py:607\u001b[0m, in \u001b[0;36mrun_forever\u001b[0;34m()\u001b[0m\n\u001b[1;32m    606\u001b[0m \u001b[38;5;28;01mwhile\u001b[39;00m \u001b[38;5;28;01mTrue\u001b[39;00m:\n\u001b[0;32m--> 607\u001b[0m     \u001b[38;5;28mself\u001b[39m\u001b[38;5;241m.\u001b[39m_run_once()\n\u001b[1;32m    608\u001b[0m     \u001b[38;5;28;01mif\u001b[39;00m \u001b[38;5;28mself\u001b[39m\u001b[38;5;241m.\u001b[39m_stopping:\n",
      "File \u001b[0;32m~/miniforge3/envs/jax/lib/python3.11/asyncio/base_events.py:1922\u001b[0m, in \u001b[0;36m_run_once\u001b[0;34m()\u001b[0m\n\u001b[1;32m   1921\u001b[0m     \u001b[38;5;28;01melse\u001b[39;00m:\n\u001b[0;32m-> 1922\u001b[0m         handle\u001b[38;5;241m.\u001b[39m_run()\n\u001b[1;32m   1923\u001b[0m handle \u001b[38;5;241m=\u001b[39m \u001b[38;5;28;01mNone\u001b[39;00m\n",
      "File \u001b[0;32m~/miniforge3/envs/jax/lib/python3.11/asyncio/events.py:80\u001b[0m, in \u001b[0;36m_run\u001b[0;34m()\u001b[0m\n\u001b[1;32m     79\u001b[0m \u001b[38;5;28;01mtry\u001b[39;00m:\n\u001b[0;32m---> 80\u001b[0m     \u001b[38;5;28mself\u001b[39m\u001b[38;5;241m.\u001b[39m_context\u001b[38;5;241m.\u001b[39mrun(\u001b[38;5;28mself\u001b[39m\u001b[38;5;241m.\u001b[39m_callback, \u001b[38;5;241m*\u001b[39m\u001b[38;5;28mself\u001b[39m\u001b[38;5;241m.\u001b[39m_args)\n\u001b[1;32m     81\u001b[0m \u001b[38;5;28;01mexcept\u001b[39;00m (\u001b[38;5;167;01mSystemExit\u001b[39;00m, \u001b[38;5;167;01mKeyboardInterrupt\u001b[39;00m):\n",
      "File \u001b[0;32m~/miniforge3/envs/jax/lib/python3.11/site-packages/ipykernel/kernelbase.py:516\u001b[0m, in \u001b[0;36mdispatch_queue\u001b[0;34m()\u001b[0m\n\u001b[1;32m    515\u001b[0m \u001b[38;5;28;01mtry\u001b[39;00m:\n\u001b[0;32m--> 516\u001b[0m     \u001b[38;5;28;01mawait\u001b[39;00m \u001b[38;5;28mself\u001b[39m\u001b[38;5;241m.\u001b[39mprocess_one()\n\u001b[1;32m    517\u001b[0m \u001b[38;5;28;01mexcept\u001b[39;00m \u001b[38;5;167;01mException\u001b[39;00m:\n",
      "File \u001b[0;32m~/miniforge3/envs/jax/lib/python3.11/site-packages/ipykernel/kernelbase.py:505\u001b[0m, in \u001b[0;36mprocess_one\u001b[0;34m()\u001b[0m\n\u001b[1;32m    504\u001b[0m         \u001b[38;5;28;01mreturn\u001b[39;00m \u001b[38;5;28;01mNone\u001b[39;00m\n\u001b[0;32m--> 505\u001b[0m \u001b[38;5;28;01mawait\u001b[39;00m dispatch(\u001b[38;5;241m*\u001b[39margs)\n",
      "File \u001b[0;32m~/miniforge3/envs/jax/lib/python3.11/site-packages/ipykernel/kernelbase.py:412\u001b[0m, in \u001b[0;36mdispatch_shell\u001b[0;34m()\u001b[0m\n\u001b[1;32m    411\u001b[0m     \u001b[38;5;28;01mif\u001b[39;00m inspect\u001b[38;5;241m.\u001b[39misawaitable(result):\n\u001b[0;32m--> 412\u001b[0m         \u001b[38;5;28;01mawait\u001b[39;00m result\n\u001b[1;32m    413\u001b[0m \u001b[38;5;28;01mexcept\u001b[39;00m \u001b[38;5;167;01mException\u001b[39;00m:\n",
      "File \u001b[0;32m~/miniforge3/envs/jax/lib/python3.11/site-packages/ipykernel/kernelbase.py:740\u001b[0m, in \u001b[0;36mexecute_request\u001b[0;34m()\u001b[0m\n\u001b[1;32m    739\u001b[0m \u001b[38;5;28;01mif\u001b[39;00m inspect\u001b[38;5;241m.\u001b[39misawaitable(reply_content):\n\u001b[0;32m--> 740\u001b[0m     reply_content \u001b[38;5;241m=\u001b[39m \u001b[38;5;28;01mawait\u001b[39;00m reply_content\n\u001b[1;32m    742\u001b[0m \u001b[38;5;66;03m# Flush output before sending the reply.\u001b[39;00m\n",
      "File \u001b[0;32m~/miniforge3/envs/jax/lib/python3.11/site-packages/ipykernel/ipkernel.py:422\u001b[0m, in \u001b[0;36mdo_execute\u001b[0;34m()\u001b[0m\n\u001b[1;32m    421\u001b[0m \u001b[38;5;28;01mif\u001b[39;00m with_cell_id:\n\u001b[0;32m--> 422\u001b[0m     res \u001b[38;5;241m=\u001b[39m shell\u001b[38;5;241m.\u001b[39mrun_cell(\n\u001b[1;32m    423\u001b[0m         code,\n\u001b[1;32m    424\u001b[0m         store_history\u001b[38;5;241m=\u001b[39mstore_history,\n\u001b[1;32m    425\u001b[0m         silent\u001b[38;5;241m=\u001b[39msilent,\n\u001b[1;32m    426\u001b[0m         cell_id\u001b[38;5;241m=\u001b[39mcell_id,\n\u001b[1;32m    427\u001b[0m     )\n\u001b[1;32m    428\u001b[0m \u001b[38;5;28;01melse\u001b[39;00m:\n",
      "File \u001b[0;32m~/miniforge3/envs/jax/lib/python3.11/site-packages/ipykernel/zmqshell.py:546\u001b[0m, in \u001b[0;36mrun_cell\u001b[0;34m()\u001b[0m\n\u001b[1;32m    545\u001b[0m \u001b[38;5;28mself\u001b[39m\u001b[38;5;241m.\u001b[39m_last_traceback \u001b[38;5;241m=\u001b[39m \u001b[38;5;28;01mNone\u001b[39;00m\n\u001b[0;32m--> 546\u001b[0m \u001b[38;5;28;01mreturn\u001b[39;00m \u001b[38;5;28msuper\u001b[39m()\u001b[38;5;241m.\u001b[39mrun_cell(\u001b[38;5;241m*\u001b[39margs, \u001b[38;5;241m*\u001b[39m\u001b[38;5;241m*\u001b[39mkwargs)\n",
      "File \u001b[0;32m~/miniforge3/envs/jax/lib/python3.11/site-packages/IPython/core/interactiveshell.py:3009\u001b[0m, in \u001b[0;36mrun_cell\u001b[0;34m()\u001b[0m\n\u001b[1;32m   3008\u001b[0m \u001b[38;5;28;01mtry\u001b[39;00m:\n\u001b[0;32m-> 3009\u001b[0m     result \u001b[38;5;241m=\u001b[39m \u001b[38;5;28mself\u001b[39m\u001b[38;5;241m.\u001b[39m_run_cell(\n\u001b[1;32m   3010\u001b[0m         raw_cell, store_history, silent, shell_futures, cell_id\n\u001b[1;32m   3011\u001b[0m     )\n\u001b[1;32m   3012\u001b[0m \u001b[38;5;28;01mfinally\u001b[39;00m:\n",
      "File \u001b[0;32m~/miniforge3/envs/jax/lib/python3.11/site-packages/IPython/core/interactiveshell.py:3064\u001b[0m, in \u001b[0;36m_run_cell\u001b[0;34m()\u001b[0m\n\u001b[1;32m   3063\u001b[0m \u001b[38;5;28;01mtry\u001b[39;00m:\n\u001b[0;32m-> 3064\u001b[0m     result \u001b[38;5;241m=\u001b[39m runner(coro)\n\u001b[1;32m   3065\u001b[0m \u001b[38;5;28;01mexcept\u001b[39;00m \u001b[38;5;167;01mBaseException\u001b[39;00m \u001b[38;5;28;01mas\u001b[39;00m e:\n",
      "File \u001b[0;32m~/miniforge3/envs/jax/lib/python3.11/site-packages/IPython/core/async_helpers.py:129\u001b[0m, in \u001b[0;36m_pseudo_sync_runner\u001b[0;34m()\u001b[0m\n\u001b[1;32m    128\u001b[0m \u001b[38;5;28;01mtry\u001b[39;00m:\n\u001b[0;32m--> 129\u001b[0m     coro\u001b[38;5;241m.\u001b[39msend(\u001b[38;5;28;01mNone\u001b[39;00m)\n\u001b[1;32m    130\u001b[0m \u001b[38;5;28;01mexcept\u001b[39;00m \u001b[38;5;167;01mStopIteration\u001b[39;00m \u001b[38;5;28;01mas\u001b[39;00m exc:\n",
      "File \u001b[0;32m~/miniforge3/envs/jax/lib/python3.11/site-packages/IPython/core/interactiveshell.py:3269\u001b[0m, in \u001b[0;36mrun_cell_async\u001b[0;34m()\u001b[0m\n\u001b[1;32m   3266\u001b[0m interactivity \u001b[38;5;241m=\u001b[39m \u001b[38;5;124m\"\u001b[39m\u001b[38;5;124mnone\u001b[39m\u001b[38;5;124m\"\u001b[39m \u001b[38;5;28;01mif\u001b[39;00m silent \u001b[38;5;28;01melse\u001b[39;00m \u001b[38;5;28mself\u001b[39m\u001b[38;5;241m.\u001b[39mast_node_interactivity\n\u001b[0;32m-> 3269\u001b[0m has_raised \u001b[38;5;241m=\u001b[39m \u001b[38;5;28;01mawait\u001b[39;00m \u001b[38;5;28mself\u001b[39m\u001b[38;5;241m.\u001b[39mrun_ast_nodes(code_ast\u001b[38;5;241m.\u001b[39mbody, cell_name,\n\u001b[1;32m   3270\u001b[0m        interactivity\u001b[38;5;241m=\u001b[39minteractivity, compiler\u001b[38;5;241m=\u001b[39mcompiler, result\u001b[38;5;241m=\u001b[39mresult)\n\u001b[1;32m   3272\u001b[0m \u001b[38;5;28mself\u001b[39m\u001b[38;5;241m.\u001b[39mlast_execution_succeeded \u001b[38;5;241m=\u001b[39m \u001b[38;5;129;01mnot\u001b[39;00m has_raised\n",
      "File \u001b[0;32m~/miniforge3/envs/jax/lib/python3.11/site-packages/IPython/core/interactiveshell.py:3448\u001b[0m, in \u001b[0;36mrun_ast_nodes\u001b[0;34m()\u001b[0m\n\u001b[1;32m   3447\u001b[0m     asy \u001b[38;5;241m=\u001b[39m compare(code)\n\u001b[0;32m-> 3448\u001b[0m \u001b[38;5;28;01mif\u001b[39;00m \u001b[38;5;28;01mawait\u001b[39;00m \u001b[38;5;28mself\u001b[39m\u001b[38;5;241m.\u001b[39mrun_code(code, result, async_\u001b[38;5;241m=\u001b[39masy):\n\u001b[1;32m   3449\u001b[0m     \u001b[38;5;28;01mreturn\u001b[39;00m \u001b[38;5;28;01mTrue\u001b[39;00m\n",
      "File \u001b[0;32m~/miniforge3/envs/jax/lib/python3.11/site-packages/IPython/core/interactiveshell.py:3508\u001b[0m, in \u001b[0;36mrun_code\u001b[0;34m()\u001b[0m\n\u001b[1;32m   3507\u001b[0m     \u001b[38;5;28;01melse\u001b[39;00m:\n\u001b[0;32m-> 3508\u001b[0m         exec(code_obj, \u001b[38;5;28mself\u001b[39m\u001b[38;5;241m.\u001b[39muser_global_ns, \u001b[38;5;28mself\u001b[39m\u001b[38;5;241m.\u001b[39muser_ns)\n\u001b[1;32m   3509\u001b[0m \u001b[38;5;28;01mfinally\u001b[39;00m:\n\u001b[1;32m   3510\u001b[0m     \u001b[38;5;66;03m# Reset our crash handler in place\u001b[39;00m\n",
      "Cell \u001b[0;32mIn[438], line 1\u001b[0m\n\u001b[0;32m----> 1\u001b[0m loss(ostl,batch[\u001b[38;5;241m0\u001b[39m][\u001b[38;5;241m0\u001b[39m])\n",
      "File \u001b[0;32m~/miniforge3/envs/jax/lib/python3.11/site-packages/flax/nnx/nnx/graph.py:1158\u001b[0m, in \u001b[0;36mupdate_context_manager_wrapper\u001b[0;34m()\u001b[0m\n\u001b[1;32m   1157\u001b[0m \u001b[38;5;28;01mwith\u001b[39;00m \u001b[38;5;28mself\u001b[39m:\n\u001b[0;32m-> 1158\u001b[0m   \u001b[38;5;28;01mreturn\u001b[39;00m f(\u001b[38;5;241m*\u001b[39margs, \u001b[38;5;241m*\u001b[39m\u001b[38;5;241m*\u001b[39mkwargs)\n",
      "File \u001b[0;32m~/miniforge3/envs/jax/lib/python3.11/site-packages/flax/nnx/nnx/transforms/compilation.py:343\u001b[0m, in \u001b[0;36mjit_wrapper\u001b[0;34m()\u001b[0m\n\u001b[1;32m    337\u001b[0m pure_args, pure_kwargs \u001b[38;5;241m=\u001b[39m extract\u001b[38;5;241m.\u001b[39mto_tree(\n\u001b[1;32m    338\u001b[0m   (args, kwargs),\n\u001b[1;32m    339\u001b[0m   prefix\u001b[38;5;241m=\u001b[39m(in_shardings, kwarg_shardings),\n\u001b[1;32m    340\u001b[0m   split_fn\u001b[38;5;241m=\u001b[39m_jit_split_fn,\n\u001b[1;32m    341\u001b[0m   ctxtag\u001b[38;5;241m=\u001b[39m\u001b[38;5;124m'\u001b[39m\u001b[38;5;124mjit\u001b[39m\u001b[38;5;124m'\u001b[39m,\n\u001b[1;32m    342\u001b[0m )\n\u001b[0;32m--> 343\u001b[0m pure_args_out, pure_kwargs_out, pure_out \u001b[38;5;241m=\u001b[39m jitted_fn(\n\u001b[1;32m    344\u001b[0m   \u001b[38;5;241m*\u001b[39mpure_args, \u001b[38;5;241m*\u001b[39m\u001b[38;5;241m*\u001b[39mpure_kwargs\n\u001b[1;32m    345\u001b[0m )\n\u001b[1;32m    346\u001b[0m _args_out, _kwargs_out, out \u001b[38;5;241m=\u001b[39m extract\u001b[38;5;241m.\u001b[39mfrom_tree(\n\u001b[1;32m    347\u001b[0m   (pure_args_out, pure_kwargs_out, pure_out), ctxtag\u001b[38;5;241m=\u001b[39m\u001b[38;5;124m'\u001b[39m\u001b[38;5;124mjit\u001b[39m\u001b[38;5;124m'\u001b[39m\n\u001b[1;32m    348\u001b[0m )\n",
      "File \u001b[0;32m~/miniforge3/envs/jax/lib/python3.11/site-packages/flax/nnx/nnx/transforms/compilation.py:111\u001b[0m, in \u001b[0;36m__call__\u001b[0;34m()\u001b[0m\n\u001b[1;32m    109\u001b[0m args, kwargs \u001b[38;5;241m=\u001b[39m extract\u001b[38;5;241m.\u001b[39mfrom_tree((pure_args, pure_kwargs), ctxtag\u001b[38;5;241m=\u001b[39m\u001b[38;5;124m'\u001b[39m\u001b[38;5;124mjit\u001b[39m\u001b[38;5;124m'\u001b[39m)\n\u001b[0;32m--> 111\u001b[0m out \u001b[38;5;241m=\u001b[39m \u001b[38;5;28mself\u001b[39m\u001b[38;5;241m.\u001b[39mf(\u001b[38;5;241m*\u001b[39margs, \u001b[38;5;241m*\u001b[39m\u001b[38;5;241m*\u001b[39mkwargs)\n\u001b[1;32m    113\u001b[0m args_out, kwargs_out \u001b[38;5;241m=\u001b[39m extract\u001b[38;5;241m.\u001b[39mclear_non_graph_nodes((args, kwargs))\n",
      "File \u001b[0;32m~/miniforge3/envs/jax/lib/python3.11/site-packages/flax/nnx/nnx/graph.py:1158\u001b[0m, in \u001b[0;36mupdate_context_manager_wrapper\u001b[0;34m()\u001b[0m\n\u001b[1;32m   1157\u001b[0m \u001b[38;5;28;01mwith\u001b[39;00m \u001b[38;5;28mself\u001b[39m:\n\u001b[0;32m-> 1158\u001b[0m   \u001b[38;5;28;01mreturn\u001b[39;00m f(\u001b[38;5;241m*\u001b[39margs, \u001b[38;5;241m*\u001b[39m\u001b[38;5;241m*\u001b[39mkwargs)\n",
      "File \u001b[0;32m~/miniforge3/envs/jax/lib/python3.11/site-packages/flax/nnx/nnx/transforms/autodiff.py:164\u001b[0m, in \u001b[0;36mgrad_wrapper\u001b[0;34m()\u001b[0m\n\u001b[1;32m    163\u001b[0m \u001b[38;5;28;01mwith\u001b[39;00m extract\u001b[38;5;241m.\u001b[39mbroadcast_state(\u001b[38;5;124m'\u001b[39m\u001b[38;5;124mgrad\u001b[39m\u001b[38;5;124m'\u001b[39m, nondiff_states):\n\u001b[0;32m--> 164\u001b[0m   fn_out \u001b[38;5;241m=\u001b[39m gradded_fn(\u001b[38;5;241m*\u001b[39mpure_args)\n\u001b[1;32m    166\u001b[0m \u001b[38;5;28;01mdef\u001b[39;00m \u001b[38;5;21mprocess_grads\u001b[39m(grads):\n",
      "File \u001b[0;32m~/miniforge3/envs/jax/lib/python3.11/site-packages/flax/nnx/nnx/transforms/autodiff.py:86\u001b[0m, in \u001b[0;36m__call__\u001b[0;34m()\u001b[0m\n\u001b[1;32m     84\u001b[0m args \u001b[38;5;241m=\u001b[39m extract\u001b[38;5;241m.\u001b[39mfrom_tree(pure_args, merge_fn\u001b[38;5;241m=\u001b[39m_grad_merge_fn, ctxtag\u001b[38;5;241m=\u001b[39m\u001b[38;5;124m'\u001b[39m\u001b[38;5;124mgrad\u001b[39m\u001b[38;5;124m'\u001b[39m)\n\u001b[0;32m---> 86\u001b[0m out \u001b[38;5;241m=\u001b[39m \u001b[38;5;28mself\u001b[39m\u001b[38;5;241m.\u001b[39mf(\u001b[38;5;241m*\u001b[39margs)\n\u001b[1;32m     88\u001b[0m args_out \u001b[38;5;241m=\u001b[39m extract\u001b[38;5;241m.\u001b[39mclear_non_graph_nodes(args)\n",
      "Cell \u001b[0;32mIn[436], line 4\u001b[0m, in \u001b[0;36mloss\u001b[0;34m()\u001b[0m\n\u001b[1;32m      1\u001b[0m \u001b[38;5;129m@nnx\u001b[39m\u001b[38;5;241m.\u001b[39mjit\n\u001b[1;32m      2\u001b[0m \u001b[38;5;129m@nnx\u001b[39m\u001b[38;5;241m.\u001b[39mgrad\n\u001b[1;32m      3\u001b[0m \u001b[38;5;28;01mdef\u001b[39;00m \u001b[38;5;21mloss\u001b[39m(mdl,x):\n\u001b[0;32m----> 4\u001b[0m     \u001b[38;5;28;01mreturn\u001b[39;00m jnp\u001b[38;5;241m.\u001b[39msum(mdl(x))\n",
      "File \u001b[0;32m~/miniforge3/envs/jax/lib/python3.11/site-packages/flax/nnx/nnx/graph.py:1158\u001b[0m, in \u001b[0;36mupdate_context_manager_wrapper\u001b[0;34m()\u001b[0m\n\u001b[1;32m   1157\u001b[0m \u001b[38;5;28;01mwith\u001b[39;00m \u001b[38;5;28mself\u001b[39m:\n\u001b[0;32m-> 1158\u001b[0m   \u001b[38;5;28;01mreturn\u001b[39;00m f(\u001b[38;5;241m*\u001b[39margs, \u001b[38;5;241m*\u001b[39m\u001b[38;5;241m*\u001b[39mkwargs)\n",
      "File \u001b[0;32m~/miniforge3/envs/jax/lib/python3.11/site-packages/flax/nnx/nnx/transforms/compilation.py:343\u001b[0m, in \u001b[0;36mjit_wrapper\u001b[0;34m()\u001b[0m\n\u001b[1;32m    337\u001b[0m pure_args, pure_kwargs \u001b[38;5;241m=\u001b[39m extract\u001b[38;5;241m.\u001b[39mto_tree(\n\u001b[1;32m    338\u001b[0m   (args, kwargs),\n\u001b[1;32m    339\u001b[0m   prefix\u001b[38;5;241m=\u001b[39m(in_shardings, kwarg_shardings),\n\u001b[1;32m    340\u001b[0m   split_fn\u001b[38;5;241m=\u001b[39m_jit_split_fn,\n\u001b[1;32m    341\u001b[0m   ctxtag\u001b[38;5;241m=\u001b[39m\u001b[38;5;124m'\u001b[39m\u001b[38;5;124mjit\u001b[39m\u001b[38;5;124m'\u001b[39m,\n\u001b[1;32m    342\u001b[0m )\n\u001b[0;32m--> 343\u001b[0m pure_args_out, pure_kwargs_out, pure_out \u001b[38;5;241m=\u001b[39m jitted_fn(\n\u001b[1;32m    344\u001b[0m   \u001b[38;5;241m*\u001b[39mpure_args, \u001b[38;5;241m*\u001b[39m\u001b[38;5;241m*\u001b[39mpure_kwargs\n\u001b[1;32m    345\u001b[0m )\n\u001b[1;32m    346\u001b[0m _args_out, _kwargs_out, out \u001b[38;5;241m=\u001b[39m extract\u001b[38;5;241m.\u001b[39mfrom_tree(\n\u001b[1;32m    347\u001b[0m   (pure_args_out, pure_kwargs_out, pure_out), ctxtag\u001b[38;5;241m=\u001b[39m\u001b[38;5;124m'\u001b[39m\u001b[38;5;124mjit\u001b[39m\u001b[38;5;124m'\u001b[39m\n\u001b[1;32m    348\u001b[0m )\n",
      "File \u001b[0;32m~/miniforge3/envs/jax/lib/python3.11/site-packages/flax/nnx/nnx/transforms/compilation.py:111\u001b[0m, in \u001b[0;36m__call__\u001b[0;34m()\u001b[0m\n\u001b[1;32m    109\u001b[0m args, kwargs \u001b[38;5;241m=\u001b[39m extract\u001b[38;5;241m.\u001b[39mfrom_tree((pure_args, pure_kwargs), ctxtag\u001b[38;5;241m=\u001b[39m\u001b[38;5;124m'\u001b[39m\u001b[38;5;124mjit\u001b[39m\u001b[38;5;124m'\u001b[39m)\n\u001b[0;32m--> 111\u001b[0m out \u001b[38;5;241m=\u001b[39m \u001b[38;5;28mself\u001b[39m\u001b[38;5;241m.\u001b[39mf(\u001b[38;5;241m*\u001b[39margs, \u001b[38;5;241m*\u001b[39m\u001b[38;5;241m*\u001b[39mkwargs)\n\u001b[1;32m    113\u001b[0m args_out, kwargs_out \u001b[38;5;241m=\u001b[39m extract\u001b[38;5;241m.\u001b[39mclear_non_graph_nodes((args, kwargs))\n",
      "Cell \u001b[0;32mIn[420], line 75\u001b[0m, in \u001b[0;36m__call__\u001b[0;34m()\u001b[0m\n\u001b[1;32m     74\u001b[0m     vp_exec \u001b[38;5;241m=\u001b[39m partial(jax\u001b[38;5;241m.\u001b[39mvmap(partial(exec_model,graph,param,state,\u001b[38;5;28mself\u001b[39m\u001b[38;5;241m.\u001b[39mE\u001b[38;5;241m.\u001b[39mvalue)))\n\u001b[0;32m---> 75\u001b[0m     out,state,E \u001b[38;5;241m=\u001b[39m vp_exec(x)\n\u001b[1;32m     76\u001b[0m \u001b[38;5;66;03m#self.E.value = E\u001b[39;00m\n",
      "\u001b[0;31mJaxStackTraceBeforeTransformation\u001b[0m: ValueError: All input arrays must have the same shape.\n\nThe preceding stack trace is the source of the JAX operation that, once transformed by JAX, triggered the following exception.\n\n--------------------",
      "\nThe above exception was the direct cause of the following exception:\n",
      "\u001b[0;31mValueError\u001b[0m                                Traceback (most recent call last)",
      "Cell \u001b[0;32mIn[438], line 1\u001b[0m\n\u001b[0;32m----> 1\u001b[0m \u001b[43mloss\u001b[49m\u001b[43m(\u001b[49m\u001b[43mostl\u001b[49m\u001b[43m,\u001b[49m\u001b[43mbatch\u001b[49m\u001b[43m[\u001b[49m\u001b[38;5;241;43m0\u001b[39;49m\u001b[43m]\u001b[49m\u001b[43m[\u001b[49m\u001b[38;5;241;43m0\u001b[39;49m\u001b[43m]\u001b[49m\u001b[43m)\u001b[49m\n",
      "File \u001b[0;32m~/miniforge3/envs/jax/lib/python3.11/site-packages/flax/nnx/nnx/graph.py:1158\u001b[0m, in \u001b[0;36mUpdateContextManager.__call__.<locals>.update_context_manager_wrapper\u001b[0;34m(*args, **kwargs)\u001b[0m\n\u001b[1;32m   1155\u001b[0m \u001b[38;5;129m@functools\u001b[39m\u001b[38;5;241m.\u001b[39mwraps(f)\n\u001b[1;32m   1156\u001b[0m \u001b[38;5;28;01mdef\u001b[39;00m \u001b[38;5;21mupdate_context_manager_wrapper\u001b[39m(\u001b[38;5;241m*\u001b[39margs, \u001b[38;5;241m*\u001b[39m\u001b[38;5;241m*\u001b[39mkwargs):\n\u001b[1;32m   1157\u001b[0m   \u001b[38;5;28;01mwith\u001b[39;00m \u001b[38;5;28mself\u001b[39m:\n\u001b[0;32m-> 1158\u001b[0m     \u001b[38;5;28;01mreturn\u001b[39;00m \u001b[43mf\u001b[49m\u001b[43m(\u001b[49m\u001b[38;5;241;43m*\u001b[39;49m\u001b[43margs\u001b[49m\u001b[43m,\u001b[49m\u001b[43m \u001b[49m\u001b[38;5;241;43m*\u001b[39;49m\u001b[38;5;241;43m*\u001b[39;49m\u001b[43mkwargs\u001b[49m\u001b[43m)\u001b[49m\n",
      "File \u001b[0;32m~/miniforge3/envs/jax/lib/python3.11/site-packages/flax/nnx/nnx/transforms/compilation.py:343\u001b[0m, in \u001b[0;36mjit.<locals>.jit_wrapper\u001b[0;34m(*args, **kwargs)\u001b[0m\n\u001b[1;32m    334\u001b[0m \u001b[38;5;129m@functools\u001b[39m\u001b[38;5;241m.\u001b[39mwraps(fun)\n\u001b[1;32m    335\u001b[0m \u001b[38;5;129m@graph\u001b[39m\u001b[38;5;241m.\u001b[39mupdate_context(\u001b[38;5;124m'\u001b[39m\u001b[38;5;124mjit\u001b[39m\u001b[38;5;124m'\u001b[39m)\n\u001b[1;32m    336\u001b[0m \u001b[38;5;28;01mdef\u001b[39;00m \u001b[38;5;21mjit_wrapper\u001b[39m(\u001b[38;5;241m*\u001b[39margs, \u001b[38;5;241m*\u001b[39m\u001b[38;5;241m*\u001b[39mkwargs):\n\u001b[1;32m    337\u001b[0m   pure_args, pure_kwargs \u001b[38;5;241m=\u001b[39m extract\u001b[38;5;241m.\u001b[39mto_tree(\n\u001b[1;32m    338\u001b[0m     (args, kwargs),\n\u001b[1;32m    339\u001b[0m     prefix\u001b[38;5;241m=\u001b[39m(in_shardings, kwarg_shardings),\n\u001b[1;32m    340\u001b[0m     split_fn\u001b[38;5;241m=\u001b[39m_jit_split_fn,\n\u001b[1;32m    341\u001b[0m     ctxtag\u001b[38;5;241m=\u001b[39m\u001b[38;5;124m'\u001b[39m\u001b[38;5;124mjit\u001b[39m\u001b[38;5;124m'\u001b[39m,\n\u001b[1;32m    342\u001b[0m   )\n\u001b[0;32m--> 343\u001b[0m   pure_args_out, pure_kwargs_out, pure_out \u001b[38;5;241m=\u001b[39m \u001b[43mjitted_fn\u001b[49m\u001b[43m(\u001b[49m\n\u001b[1;32m    344\u001b[0m \u001b[43m    \u001b[49m\u001b[38;5;241;43m*\u001b[39;49m\u001b[43mpure_args\u001b[49m\u001b[43m,\u001b[49m\u001b[43m \u001b[49m\u001b[38;5;241;43m*\u001b[39;49m\u001b[38;5;241;43m*\u001b[39;49m\u001b[43mpure_kwargs\u001b[49m\n\u001b[1;32m    345\u001b[0m \u001b[43m  \u001b[49m\u001b[43m)\u001b[49m\n\u001b[1;32m    346\u001b[0m   _args_out, _kwargs_out, out \u001b[38;5;241m=\u001b[39m extract\u001b[38;5;241m.\u001b[39mfrom_tree(\n\u001b[1;32m    347\u001b[0m     (pure_args_out, pure_kwargs_out, pure_out), ctxtag\u001b[38;5;241m=\u001b[39m\u001b[38;5;124m'\u001b[39m\u001b[38;5;124mjit\u001b[39m\u001b[38;5;124m'\u001b[39m\n\u001b[1;32m    348\u001b[0m   )\n\u001b[1;32m    349\u001b[0m   \u001b[38;5;28;01mreturn\u001b[39;00m out\n",
      "    \u001b[0;31m[... skipping hidden 11 frame]\u001b[0m\n",
      "File \u001b[0;32m~/miniforge3/envs/jax/lib/python3.11/site-packages/flax/nnx/nnx/transforms/compilation.py:111\u001b[0m, in \u001b[0;36mJitFn.__call__\u001b[0;34m(self, *pure_args, **pure_kwargs)\u001b[0m\n\u001b[1;32m    108\u001b[0m \u001b[38;5;28;01mdef\u001b[39;00m \u001b[38;5;21m__call__\u001b[39m(\u001b[38;5;28mself\u001b[39m, \u001b[38;5;241m*\u001b[39mpure_args, \u001b[38;5;241m*\u001b[39m\u001b[38;5;241m*\u001b[39mpure_kwargs):\n\u001b[1;32m    109\u001b[0m   args, kwargs \u001b[38;5;241m=\u001b[39m extract\u001b[38;5;241m.\u001b[39mfrom_tree((pure_args, pure_kwargs), ctxtag\u001b[38;5;241m=\u001b[39m\u001b[38;5;124m'\u001b[39m\u001b[38;5;124mjit\u001b[39m\u001b[38;5;124m'\u001b[39m)\n\u001b[0;32m--> 111\u001b[0m   out \u001b[38;5;241m=\u001b[39m \u001b[38;5;28;43mself\u001b[39;49m\u001b[38;5;241;43m.\u001b[39;49m\u001b[43mf\u001b[49m\u001b[43m(\u001b[49m\u001b[38;5;241;43m*\u001b[39;49m\u001b[43margs\u001b[49m\u001b[43m,\u001b[49m\u001b[43m \u001b[49m\u001b[38;5;241;43m*\u001b[39;49m\u001b[38;5;241;43m*\u001b[39;49m\u001b[43mkwargs\u001b[49m\u001b[43m)\u001b[49m\n\u001b[1;32m    113\u001b[0m   args_out, kwargs_out \u001b[38;5;241m=\u001b[39m extract\u001b[38;5;241m.\u001b[39mclear_non_graph_nodes((args, kwargs))\n\u001b[1;32m    114\u001b[0m   pure_args_out, pure_kwargs_out, pure_out \u001b[38;5;241m=\u001b[39m extract\u001b[38;5;241m.\u001b[39mto_tree(\n\u001b[1;32m    115\u001b[0m     (args_out, kwargs_out, out),\n\u001b[1;32m    116\u001b[0m     prefix\u001b[38;5;241m=\u001b[39m(\u001b[38;5;28mself\u001b[39m\u001b[38;5;241m.\u001b[39min_shardings, \u001b[38;5;28mself\u001b[39m\u001b[38;5;241m.\u001b[39mkwarg_shardings, \u001b[38;5;28mself\u001b[39m\u001b[38;5;241m.\u001b[39mout_shardings),\n\u001b[1;32m    117\u001b[0m     ctxtag\u001b[38;5;241m=\u001b[39m\u001b[38;5;124m'\u001b[39m\u001b[38;5;124mjit\u001b[39m\u001b[38;5;124m'\u001b[39m,\n\u001b[1;32m    118\u001b[0m     split_fn\u001b[38;5;241m=\u001b[39m_jit_split_fn,\n\u001b[1;32m    119\u001b[0m   )\n",
      "File \u001b[0;32m~/miniforge3/envs/jax/lib/python3.11/site-packages/flax/nnx/nnx/graph.py:1158\u001b[0m, in \u001b[0;36mUpdateContextManager.__call__.<locals>.update_context_manager_wrapper\u001b[0;34m(*args, **kwargs)\u001b[0m\n\u001b[1;32m   1155\u001b[0m \u001b[38;5;129m@functools\u001b[39m\u001b[38;5;241m.\u001b[39mwraps(f)\n\u001b[1;32m   1156\u001b[0m \u001b[38;5;28;01mdef\u001b[39;00m \u001b[38;5;21mupdate_context_manager_wrapper\u001b[39m(\u001b[38;5;241m*\u001b[39margs, \u001b[38;5;241m*\u001b[39m\u001b[38;5;241m*\u001b[39mkwargs):\n\u001b[1;32m   1157\u001b[0m   \u001b[38;5;28;01mwith\u001b[39;00m \u001b[38;5;28mself\u001b[39m:\n\u001b[0;32m-> 1158\u001b[0m     \u001b[38;5;28;01mreturn\u001b[39;00m \u001b[43mf\u001b[49m\u001b[43m(\u001b[49m\u001b[38;5;241;43m*\u001b[39;49m\u001b[43margs\u001b[49m\u001b[43m,\u001b[49m\u001b[43m \u001b[49m\u001b[38;5;241;43m*\u001b[39;49m\u001b[38;5;241;43m*\u001b[39;49m\u001b[43mkwargs\u001b[49m\u001b[43m)\u001b[49m\n",
      "File \u001b[0;32m~/miniforge3/envs/jax/lib/python3.11/site-packages/flax/nnx/nnx/transforms/autodiff.py:164\u001b[0m, in \u001b[0;36m_grad_general.<locals>.grad_wrapper\u001b[0;34m(***failed resolving arguments***)\u001b[0m\n\u001b[1;32m    159\u001b[0m pure_args \u001b[38;5;241m=\u001b[39m extract\u001b[38;5;241m.\u001b[39mto_tree(\n\u001b[1;32m    160\u001b[0m   args, prefix\u001b[38;5;241m=\u001b[39marg_filters, split_fn\u001b[38;5;241m=\u001b[39m_grad_split_fn, ctxtag\u001b[38;5;241m=\u001b[39m\u001b[38;5;124m'\u001b[39m\u001b[38;5;124mgrad\u001b[39m\u001b[38;5;124m'\u001b[39m\n\u001b[1;32m    161\u001b[0m )\n\u001b[1;32m    163\u001b[0m \u001b[38;5;28;01mwith\u001b[39;00m extract\u001b[38;5;241m.\u001b[39mbroadcast_state(\u001b[38;5;124m'\u001b[39m\u001b[38;5;124mgrad\u001b[39m\u001b[38;5;124m'\u001b[39m, nondiff_states):\n\u001b[0;32m--> 164\u001b[0m   fn_out \u001b[38;5;241m=\u001b[39m \u001b[43mgradded_fn\u001b[49m\u001b[43m(\u001b[49m\u001b[38;5;241;43m*\u001b[39;49m\u001b[43mpure_args\u001b[49m\u001b[43m)\u001b[49m\n\u001b[1;32m    166\u001b[0m \u001b[38;5;28;01mdef\u001b[39;00m \u001b[38;5;21mprocess_grads\u001b[39m(grads):\n\u001b[1;32m    167\u001b[0m   \u001b[38;5;28;01mreturn\u001b[39;00m jax\u001b[38;5;241m.\u001b[39mtree\u001b[38;5;241m.\u001b[39mmap(\n\u001b[1;32m    168\u001b[0m     \u001b[38;5;28;01mlambda\u001b[39;00m x: x\u001b[38;5;241m.\u001b[39mstate \u001b[38;5;28;01mif\u001b[39;00m \u001b[38;5;28misinstance\u001b[39m(x, extract\u001b[38;5;241m.\u001b[39mTreeNode) \u001b[38;5;28;01melse\u001b[39;00m x,\n\u001b[1;32m    169\u001b[0m     grads,\n\u001b[1;32m    170\u001b[0m     is_leaf\u001b[38;5;241m=\u001b[39m\u001b[38;5;28;01mlambda\u001b[39;00m x: \u001b[38;5;28misinstance\u001b[39m(x, extract\u001b[38;5;241m.\u001b[39mTreeNode),\n\u001b[1;32m    171\u001b[0m   )\n",
      "    \u001b[0;31m[... skipping hidden 10 frame]\u001b[0m\n",
      "File \u001b[0;32m~/miniforge3/envs/jax/lib/python3.11/site-packages/flax/nnx/nnx/transforms/autodiff.py:86\u001b[0m, in \u001b[0;36mGradFn.__call__\u001b[0;34m(self, *pure_args)\u001b[0m\n\u001b[1;32m     82\u001b[0m     \u001b[38;5;28;01mreturn\u001b[39;00m ctx\u001b[38;5;241m.\u001b[39mmerge(value\u001b[38;5;241m.\u001b[39mgraphdef, value\u001b[38;5;241m.\u001b[39mstate, nondiff)\n\u001b[1;32m     84\u001b[0m args \u001b[38;5;241m=\u001b[39m extract\u001b[38;5;241m.\u001b[39mfrom_tree(pure_args, merge_fn\u001b[38;5;241m=\u001b[39m_grad_merge_fn, ctxtag\u001b[38;5;241m=\u001b[39m\u001b[38;5;124m'\u001b[39m\u001b[38;5;124mgrad\u001b[39m\u001b[38;5;124m'\u001b[39m)\n\u001b[0;32m---> 86\u001b[0m out \u001b[38;5;241m=\u001b[39m \u001b[38;5;28;43mself\u001b[39;49m\u001b[38;5;241;43m.\u001b[39;49m\u001b[43mf\u001b[49m\u001b[43m(\u001b[49m\u001b[38;5;241;43m*\u001b[39;49m\u001b[43margs\u001b[49m\u001b[43m)\u001b[49m\n\u001b[1;32m     88\u001b[0m args_out \u001b[38;5;241m=\u001b[39m extract\u001b[38;5;241m.\u001b[39mclear_non_graph_nodes(args)\n\u001b[1;32m     89\u001b[0m pure_args_out, pure_out \u001b[38;5;241m=\u001b[39m extract\u001b[38;5;241m.\u001b[39mto_tree((args_out, out), ctxtag\u001b[38;5;241m=\u001b[39m\u001b[38;5;124m'\u001b[39m\u001b[38;5;124mgrad\u001b[39m\u001b[38;5;124m'\u001b[39m)\n",
      "Cell \u001b[0;32mIn[436], line 4\u001b[0m, in \u001b[0;36mloss\u001b[0;34m(mdl, x)\u001b[0m\n\u001b[1;32m      1\u001b[0m \u001b[38;5;129m@nnx\u001b[39m\u001b[38;5;241m.\u001b[39mjit\n\u001b[1;32m      2\u001b[0m \u001b[38;5;129m@nnx\u001b[39m\u001b[38;5;241m.\u001b[39mgrad\n\u001b[1;32m      3\u001b[0m \u001b[38;5;28;01mdef\u001b[39;00m \u001b[38;5;21mloss\u001b[39m(mdl,x):\n\u001b[0;32m----> 4\u001b[0m     \u001b[38;5;28;01mreturn\u001b[39;00m jnp\u001b[38;5;241m.\u001b[39msum(\u001b[43mmdl\u001b[49m\u001b[43m(\u001b[49m\u001b[43mx\u001b[49m\u001b[43m)\u001b[49m)\n",
      "File \u001b[0;32m~/miniforge3/envs/jax/lib/python3.11/site-packages/flax/nnx/nnx/graph.py:1158\u001b[0m, in \u001b[0;36mUpdateContextManager.__call__.<locals>.update_context_manager_wrapper\u001b[0;34m(*args, **kwargs)\u001b[0m\n\u001b[1;32m   1155\u001b[0m \u001b[38;5;129m@functools\u001b[39m\u001b[38;5;241m.\u001b[39mwraps(f)\n\u001b[1;32m   1156\u001b[0m \u001b[38;5;28;01mdef\u001b[39;00m \u001b[38;5;21mupdate_context_manager_wrapper\u001b[39m(\u001b[38;5;241m*\u001b[39margs, \u001b[38;5;241m*\u001b[39m\u001b[38;5;241m*\u001b[39mkwargs):\n\u001b[1;32m   1157\u001b[0m   \u001b[38;5;28;01mwith\u001b[39;00m \u001b[38;5;28mself\u001b[39m:\n\u001b[0;32m-> 1158\u001b[0m     \u001b[38;5;28;01mreturn\u001b[39;00m \u001b[43mf\u001b[49m\u001b[43m(\u001b[49m\u001b[38;5;241;43m*\u001b[39;49m\u001b[43margs\u001b[49m\u001b[43m,\u001b[49m\u001b[43m \u001b[49m\u001b[38;5;241;43m*\u001b[39;49m\u001b[38;5;241;43m*\u001b[39;49m\u001b[43mkwargs\u001b[49m\u001b[43m)\u001b[49m\n",
      "File \u001b[0;32m~/miniforge3/envs/jax/lib/python3.11/site-packages/flax/nnx/nnx/transforms/compilation.py:343\u001b[0m, in \u001b[0;36mjit.<locals>.jit_wrapper\u001b[0;34m(*args, **kwargs)\u001b[0m\n\u001b[1;32m    334\u001b[0m \u001b[38;5;129m@functools\u001b[39m\u001b[38;5;241m.\u001b[39mwraps(fun)\n\u001b[1;32m    335\u001b[0m \u001b[38;5;129m@graph\u001b[39m\u001b[38;5;241m.\u001b[39mupdate_context(\u001b[38;5;124m'\u001b[39m\u001b[38;5;124mjit\u001b[39m\u001b[38;5;124m'\u001b[39m)\n\u001b[1;32m    336\u001b[0m \u001b[38;5;28;01mdef\u001b[39;00m \u001b[38;5;21mjit_wrapper\u001b[39m(\u001b[38;5;241m*\u001b[39margs, \u001b[38;5;241m*\u001b[39m\u001b[38;5;241m*\u001b[39mkwargs):\n\u001b[1;32m    337\u001b[0m   pure_args, pure_kwargs \u001b[38;5;241m=\u001b[39m extract\u001b[38;5;241m.\u001b[39mto_tree(\n\u001b[1;32m    338\u001b[0m     (args, kwargs),\n\u001b[1;32m    339\u001b[0m     prefix\u001b[38;5;241m=\u001b[39m(in_shardings, kwarg_shardings),\n\u001b[1;32m    340\u001b[0m     split_fn\u001b[38;5;241m=\u001b[39m_jit_split_fn,\n\u001b[1;32m    341\u001b[0m     ctxtag\u001b[38;5;241m=\u001b[39m\u001b[38;5;124m'\u001b[39m\u001b[38;5;124mjit\u001b[39m\u001b[38;5;124m'\u001b[39m,\n\u001b[1;32m    342\u001b[0m   )\n\u001b[0;32m--> 343\u001b[0m   pure_args_out, pure_kwargs_out, pure_out \u001b[38;5;241m=\u001b[39m \u001b[43mjitted_fn\u001b[49m\u001b[43m(\u001b[49m\n\u001b[1;32m    344\u001b[0m \u001b[43m    \u001b[49m\u001b[38;5;241;43m*\u001b[39;49m\u001b[43mpure_args\u001b[49m\u001b[43m,\u001b[49m\u001b[43m \u001b[49m\u001b[38;5;241;43m*\u001b[39;49m\u001b[38;5;241;43m*\u001b[39;49m\u001b[43mpure_kwargs\u001b[49m\n\u001b[1;32m    345\u001b[0m \u001b[43m  \u001b[49m\u001b[43m)\u001b[49m\n\u001b[1;32m    346\u001b[0m   _args_out, _kwargs_out, out \u001b[38;5;241m=\u001b[39m extract\u001b[38;5;241m.\u001b[39mfrom_tree(\n\u001b[1;32m    347\u001b[0m     (pure_args_out, pure_kwargs_out, pure_out), ctxtag\u001b[38;5;241m=\u001b[39m\u001b[38;5;124m'\u001b[39m\u001b[38;5;124mjit\u001b[39m\u001b[38;5;124m'\u001b[39m\n\u001b[1;32m    348\u001b[0m   )\n\u001b[1;32m    349\u001b[0m   \u001b[38;5;28;01mreturn\u001b[39;00m out\n",
      "    \u001b[0;31m[... skipping hidden 23 frame]\u001b[0m\n",
      "Cell \u001b[0;32mIn[420], line 49\u001b[0m, in \u001b[0;36mdiag_rtrl.__call__.<locals>.exec\u001b[0;34m(graph, param, state, E, x)\u001b[0m\n\u001b[1;32m     46\u001b[0m     (ds_grad),(du_dp,du_du) \u001b[38;5;241m=\u001b[39m jax\u001b[38;5;241m.\u001b[39mtree\u001b[38;5;241m.\u001b[39mmap(diag,grads)\n\u001b[1;32m     47\u001b[0m     ds_dp,ds_du \u001b[38;5;241m=\u001b[39m jax\u001b[38;5;241m.\u001b[39mtree\u001b[38;5;241m.\u001b[39mmap(\u001b[38;5;28;01mlambda\u001b[39;00m x: x[\u001b[38;5;241m0\u001b[39m],ds_grad)\n\u001b[0;32m---> 49\u001b[0m ds_du, du_du \u001b[38;5;241m=\u001b[39m \u001b[43mjnp\u001b[49m\u001b[38;5;241;43m.\u001b[39;49m\u001b[43mstack\u001b[49m\u001b[43m(\u001b[49m\u001b[43mjax\u001b[49m\u001b[38;5;241;43m.\u001b[39;49m\u001b[43mtree\u001b[49m\u001b[38;5;241;43m.\u001b[39;49m\u001b[43mleaves\u001b[49m\u001b[43m(\u001b[49m\u001b[43mds_du\u001b[49m\u001b[43m)\u001b[49m\u001b[43m)\u001b[49m, jnp\u001b[38;5;241m.\u001b[39mstack(jax\u001b[38;5;241m.\u001b[39mtree\u001b[38;5;241m.\u001b[39mleaves(du_du))\n\u001b[1;32m     51\u001b[0m ds_dtheta \u001b[38;5;241m=\u001b[39m diag_rtrl_update(ds_du,E,ds_dp)\n\u001b[1;32m     52\u001b[0m E \u001b[38;5;241m=\u001b[39m diag_rtrl_update(du_du,E,du_dp)\n",
      "File \u001b[0;32m~/miniforge3/envs/jax/lib/python3.11/site-packages/jax/_src/numpy/lax_numpy.py:2841\u001b[0m, in \u001b[0;36mstack\u001b[0;34m(arrays, axis, out, dtype)\u001b[0m\n\u001b[1;32m   2839\u001b[0m \u001b[38;5;28;01mfor\u001b[39;00m a \u001b[38;5;129;01min\u001b[39;00m arrays:\n\u001b[1;32m   2840\u001b[0m   \u001b[38;5;28;01mif\u001b[39;00m shape(a) \u001b[38;5;241m!=\u001b[39m shape0:\n\u001b[0;32m-> 2841\u001b[0m     \u001b[38;5;28;01mraise\u001b[39;00m \u001b[38;5;167;01mValueError\u001b[39;00m(\u001b[38;5;124m\"\u001b[39m\u001b[38;5;124mAll input arrays must have the same shape.\u001b[39m\u001b[38;5;124m\"\u001b[39m)\n\u001b[1;32m   2842\u001b[0m   new_arrays\u001b[38;5;241m.\u001b[39mappend(expand_dims(a, axis))\n\u001b[1;32m   2843\u001b[0m \u001b[38;5;28;01mreturn\u001b[39;00m concatenate(new_arrays, axis\u001b[38;5;241m=\u001b[39maxis, dtype\u001b[38;5;241m=\u001b[39mdtype)\n",
      "\u001b[0;31mValueError\u001b[0m: All input arrays must have the same shape."
     ]
    }
   ],
   "source": [
    "loss(ostl,batch[0][0])"
   ]
  },
  {
   "cell_type": "code",
   "execution_count": null,
   "metadata": {},
   "outputs": [],
   "source": [
    "rm = jax.jit(sl.RNN(snn,False,broadcast_state=True))"
   ]
  },
  {
   "cell_type": "code",
   "execution_count": null,
   "metadata": {},
   "outputs": [],
   "source": [
    "import time\n",
    "start = time.time()\n",
    "out = rm(batch[0])\n",
    "out.block_until_ready()\n",
    "end = time.time()\n",
    "print(end-start)"
   ]
  },
  {
   "cell_type": "code",
   "execution_count": null,
   "metadata": {},
   "outputs": [],
   "source": [
    "rm = jax.jit(sl.RNN(snn,unroll=jnp.iinfo(jnp.uint32).max))"
   ]
  },
  {
   "cell_type": "code",
   "execution_count": null,
   "metadata": {},
   "outputs": [],
   "source": [
    "import time\n",
    "start = time.time()\n",
    "out = rm(batch[0])\n",
    "out.block_until_ready()\n",
    "end = time.time()\n",
    "print(end-start)"
   ]
  },
  {
   "cell_type": "code",
   "execution_count": null,
   "metadata": {},
   "outputs": [],
   "source": [
    "rm = jax.jit(sl.RNN(snn,unroll=False))"
   ]
  },
  {
   "cell_type": "code",
   "execution_count": null,
   "metadata": {},
   "outputs": [],
   "source": [
    "import time\n",
    "start = time.time()\n",
    "out = rm(batch[0])\n",
    "out.block_until_ready()\n",
    "end = time.time()\n",
    "print(end-start)"
   ]
  },
  {
   "cell_type": "code",
   "execution_count": null,
   "metadata": {},
   "outputs": [],
   "source": [
    "g,p = nnx.split(snn)"
   ]
  },
  {
   "cell_type": "code",
   "execution_count": null,
   "metadata": {},
   "outputs": [],
   "source": [
    "a,b = g.apply(p)(batch[0])"
   ]
  },
  {
   "cell_type": "code",
   "execution_count": null,
   "metadata": {},
   "outputs": [],
   "source": [
    "@nnx.scan(unroll=jnp.iinfo(jnp.uint32).max)\n",
    "def forward(mdl,x):\n",
    "    return mdl,mdl(x)"
   ]
  },
  {
   "cell_type": "code",
   "execution_count": null,
   "metadata": {},
   "outputs": [],
   "source": [
    "@nnx.jit\n",
    "@nnx.grad\n",
    "def loss(mdl,batch):\n",
    "    _,y = forward(mdl,batch[0]+2)\n",
    "    return jnp.mean(y)"
   ]
  },
  {
   "cell_type": "code",
   "execution_count": null,
   "metadata": {},
   "outputs": [],
   "source": [
    "g = loss(snn,batch)"
   ]
  },
  {
   "cell_type": "code",
   "execution_count": null,
   "metadata": {},
   "outputs": [],
   "source": [
    "state_axes = nnx.StateAxes({nnx.Param: None, ...:0})\n",
    "@nnx.vmap(in_axes=(state_axes,0),out_axes=0)\n",
    "def forward(mdl,x):\n",
    "    return mdl(x)"
   ]
  },
  {
   "cell_type": "code",
   "execution_count": null,
   "metadata": {},
   "outputs": [],
   "source": [
    "forward(snn,batch[0][0]).shape"
   ]
  },
  {
   "cell_type": "code",
   "execution_count": null,
   "metadata": {},
   "outputs": [],
   "source": [
    "optimizer = optax.adamax(0.01)\n",
    "bp_opt_state = optimizer.init(tree_map(jnp.float32,bp_params['params']))\n",
    "ostl_opt_state = optimizer.init(tree_map(jnp.float32,ostl_params['params']))\n",
    "ottt_opt_state = optimizer.init(tree_map(jnp.float32,ottt_params['params']))\n",
    "otpe_opt_state = optimizer.init(tree_map(jnp.float32,otpe_params['params']))\n",
    "rtrl_opt_state = optimizer.init(tree_map(jnp.float32,rtrl_params['params']))\n",
    "fptt_opt_state = optimizer.init(tree_map(jnp.float32,fptt_params['params']))"
   ]
  },
  {
   "cell_type": "code",
   "execution_count": null,
   "metadata": {},
   "outputs": [],
   "source": [
    "bp_train = sl.train_offline(bp_model,optax.softmax_cross_entropy,optimizer)\n",
    "ostl_train = sl.train_online(ostl_model,optax.softmax_cross_entropy,optimizer)\n",
    "ottt_train = sl.train_online(ottt_model,optax.softmax_cross_entropy,optimizer)\n",
    "otpe_train = sl.train_online(otpe_model,optax.softmax_cross_entropy,optimizer)\n",
    "rtrl_train = sl.train_online(rtrl_model,optax.softmax_cross_entropy,optimizer)\n",
    "fptt_train = sl.FPTT(bp_model,optax.softmax_cross_entropy,optimizer)\n",
    "\n",
    "\n",
    "bp_eval = sl.train_offline(bp_model,optax.softmax_cross_entropy,optimizer)\n",
    "ostl_eval = sl.train_online_deferred(ostl_model,optax.softmax_cross_entropy,optimizer)\n",
    "ottt_eval = sl.train_online_deferred(ottt_model,optax.softmax_cross_entropy,optimizer)\n",
    "otpe_eval = sl.train_online_deferred(otpe_model,optax.softmax_cross_entropy,optimizer)\n",
    "rtrl_eval = sl.train_online_deferred(rtrl_model,optax.softmax_cross_entropy,optimizer)"
   ]
  },
  {
   "cell_type": "code",
   "execution_count": null,
   "metadata": {},
   "outputs": [],
   "source": [
    "_,_,_,_,grad = bp_train(bp_params,batch,bp_opt_state,True,unroll=5)\n",
    "out = sl.compare_grads(ostl_eval,bp_params,grad,(ostl_params,batch,ostl_opt_state))"
   ]
  },
  {
   "cell_type": "code",
   "execution_count": null,
   "metadata": {},
   "outputs": [],
   "source": [
    "# _,_,_,_,grad = bp_train(bp_params,batch,bp_opt_state,True,unroll=5)\n",
    "# out = sl.compare_grads(rtrl_eval,bp_params,grad,(rtrl_params,batch,rtrl_opt_state))"
   ]
  },
  {
   "cell_type": "code",
   "execution_count": null,
   "metadata": {},
   "outputs": [],
   "source": [
    "def exec(p,opt_s,random_seed):\n",
    "    random_seed,val_seed = jax.random.split(random_seed)\n",
    "    new_batch = sl.randman(manifold_key,random_seed,nb_classes=output_sz,nb_units=input_sz,nb_steps=seq_len,nb_samples=100,batch_sz=batch_sz,dim_manifold=2,alpha=2.,time_encode=True)\n",
    "    \n",
    "    p[0],opt_s[0],_,_ = bp_train(p[0],new_batch,opt_s[0])\n",
    "    p[1],opt_s[1],_,_ = ostl_train(p[1],new_batch,opt_s[1])\n",
    "    p[2],opt_s[2],_,_ = ottt_train(p[2],new_batch,opt_s[2])\n",
    "    p[3],opt_s[3],_,_ = otpe_train(p[3],new_batch,opt_s[3])\n",
    "    p[4],opt_s[4],_,_ = rtrl_train(p[4],new_batch,opt_s[4])\n",
    "\n",
    "    l = [100]*len(p)\n",
    "\n",
    "    val_batch = sl.randman(manifold_key,val_seed,nb_classes=output_sz,nb_units=input_sz,nb_steps=seq_len,nb_samples=100,batch_sz=batch_sz,dim_manifold=2,alpha=2.,time_encode=True)\n",
    "    l[0] = bp_eval(p[0],val_batch,opt_s[0])[3]\n",
    "    l[1] = jnp.mean(ostl_eval(p[1],val_batch,opt_s[1])[3])\n",
    "    l[2] = jnp.mean(ottt_eval(p[2],val_batch,opt_s[2])[3])\n",
    "    l[3] = jnp.mean(otpe_eval(p[3],val_batch,opt_s[3])[3])\n",
    "    l[4] = jnp.mean(rtrl_eval(p[4],val_batch,opt_s[4])[3])\n",
    "\n",
    "    return p,opt_s,random_seed,l"
   ]
  },
  {
   "cell_type": "code",
   "execution_count": null,
   "metadata": {},
   "outputs": [],
   "source": [
    "with open('./tmp/bp_model_{}'.format(0),'wb') as file:\n",
    "            pickle.dump(tree_map(jnp.float32,bp_params),file,protocol=pickle.HIGHEST_PROTOCOL)\n",
    "with open('./tmp/ottt_model_{}'.format(0),'wb') as file:\n",
    "            pickle.dump(tree_map(jnp.float32,ottt_params),file,protocol=pickle.HIGHEST_PROTOCOL)\n",
    "with open('./tmp/otpe_model_{}'.format(0),'wb') as file:\n",
    "            pickle.dump(tree_map(jnp.float32,otpe_params),file,protocol=pickle.HIGHEST_PROTOCOL)\n",
    "with open('./tmp/rtrl_model_{}'.format(0),'wb') as file:\n",
    "            pickle.dump(tree_map(jnp.float32,rtrl_params),file,protocol=pickle.HIGHEST_PROTOCOL)\n",
    "with open('./tmp/ostl_model_{}'.format(0),'wb') as file:\n",
    "            pickle.dump(tree_map(jnp.float32,ostl_params),file,protocol=pickle.HIGHEST_PROTOCOL)"
   ]
  },
  {
   "cell_type": "code",
   "execution_count": null,
   "metadata": {},
   "outputs": [],
   "source": [
    "p = [bp_params,ostl_params,ottt_params,otpe_params,rtrl_params]\n",
    "opt_s = [bp_opt_state,ostl_opt_state,ottt_opt_state,otpe_opt_state,rtrl_opt_state]"
   ]
  },
  {
   "cell_type": "code",
   "execution_count": null,
   "metadata": {},
   "outputs": [],
   "source": [
    "best_bp_loss = 100\n",
    "best_ostl_loss = 100\n",
    "best_ottt_loss = 100\n",
    "best_otpe_loss = 100\n",
    "best_rtrl_loss = 100\n",
    "\n",
    "best_bp_params = bp_params\n",
    "best_ostl_params = ostl_params\n",
    "best_ottt_params = ottt_params\n",
    "best_otpe_params = otpe_params\n",
    "best_rtrl_params = rtrl_params"
   ]
  },
  {
   "cell_type": "code",
   "execution_count": null,
   "metadata": {},
   "outputs": [],
   "source": [
    "for i in range(n_steps):\n",
    "    p,opt_s,random_seed,l = jax.jit(exec)(p,opt_s,random_seed)\n",
    "    if l[0] < best_bp_loss:\n",
    "        best_bp_params = p[0]\n",
    "        best_bp_loss = l[0]\n",
    "    if l[1] < best_ostl_loss:\n",
    "        best_ostl_params = p[1]\n",
    "        best_ostl_loss = l[1]\n",
    "    if l[2] < best_ottt_loss:\n",
    "        best_ottt_params = p[2]\n",
    "        best_ottt_loss = l[2]\n",
    "    if l[3] < best_otpe_loss:\n",
    "        best_otpe_params = p[3]\n",
    "        best_otpe_loss = l[3]\n",
    "    if l[4] < best_rtrl_loss:\n",
    "        best_rtrl_params = p[4]\n",
    "        best_rtrl_loss = l[4]\n",
    "\n",
    "    if (i+1) % 1_000 == 0:\n",
    "        with open('./tmp/bp_model_{}'.format((i+1)//1_000),'wb') as file:\n",
    "            pickle.dump(tree_map(jnp.float32,p[0]),file,protocol=pickle.HIGHEST_PROTOCOL)\n",
    "        with open('./tmp/ostl_model_{}'.format((i+1)//1_000),'wb') as file:\n",
    "            pickle.dump(tree_map(jnp.float32,p[1]),file,protocol=pickle.HIGHEST_PROTOCOL)\n",
    "        with open('./tmp/ottt_model_{}'.format((i+1)//1_000),'wb') as file:\n",
    "            pickle.dump(tree_map(jnp.float32,p[2]),file,protocol=pickle.HIGHEST_PROTOCOL)\n",
    "        with open('./tmp/otpe_model_{}'.format((i+1)//1_000),'wb') as file:\n",
    "            pickle.dump(tree_map(jnp.float32,p[3]),file,protocol=pickle.HIGHEST_PROTOCOL)\n",
    "        with open('./tmp/rtrl_model_{}'.format((i+1)//1_000),'wb') as file:\n",
    "            pickle.dump(tree_map(jnp.float32,p[4]),file,protocol=pickle.HIGHEST_PROTOCOL)\n",
    "\n",
    "with open('./tmp/bp_model_{}'.format((5)),'wb') as file:\n",
    "    pickle.dump(tree_map(jnp.float32,best_bp_params),file,protocol=pickle.HIGHEST_PROTOCOL)\n",
    "with open('./tmp/ostl_model_{}'.format(5),'wb') as file:\n",
    "    pickle.dump(tree_map(jnp.float32,best_ostl_params),file,protocol=pickle.HIGHEST_PROTOCOL)\n",
    "with open('./tmp/ottt_model_{}'.format(5),'wb') as file:\n",
    "    pickle.dump(tree_map(jnp.float32,best_ottt_params),file,protocol=pickle.HIGHEST_PROTOCOL)\n",
    "with open('./tmp/otpe_model_{}'.format(5),'wb') as file:\n",
    "    pickle.dump(tree_map(jnp.float32,best_otpe_params),file,protocol=pickle.HIGHEST_PROTOCOL)\n",
    "with open('./tmp/rtrl_model_{}'.format(5),'wb') as file:\n",
    "    pickle.dump(tree_map(jnp.float32,best_rtrl_params),file,protocol=pickle.HIGHEST_PROTOCOL)"
   ]
  },
  {
   "cell_type": "code",
   "execution_count": null,
   "metadata": {},
   "outputs": [],
   "source": [
    "struct = tree_structure(bp_params['params'])"
   ]
  },
  {
   "cell_type": "code",
   "execution_count": null,
   "metadata": {},
   "outputs": [],
   "source": [
    "test_batch = sl.randman(manifold_key,random_seed,nb_classes=output_sz,nb_units=input_sz,nb_steps=seq_len,nb_samples=100,dim_manifold=2,alpha=2.)\n",
    "bp_test_carry = bp_model.init(key,jnp.zeros_like(test_batch[0][0]))\n",
    "bp_test_params = bp_params\n",
    "bp_test_params['carry'] = bp_test_carry['carry']"
   ]
  },
  {
   "cell_type": "code",
   "execution_count": null,
   "metadata": {},
   "outputs": [],
   "source": [
    "def apply(params,x):\n",
    "    s,upd = bp_model.apply(params,x,mutable='carry')\n",
    "    params.update(upd)\n",
    "    return params,s"
   ]
  },
  {
   "cell_type": "code",
   "execution_count": null,
   "metadata": {},
   "outputs": [],
   "source": [
    "def get_loss(params):\n",
    "    _,s = jax.lax.scan(apply,params,test_batch[0])\n",
    "    return jnp.mean(optax.softmax_cross_entropy(s,test_batch[1]))"
   ]
  },
  {
   "cell_type": "code",
   "execution_count": null,
   "metadata": {},
   "outputs": [],
   "source": [
    "def load_params(number):\n",
    "    with open('./tmp/bp_model_{}'.format(number),'rb') as file:\n",
    "        bp_params = pickle.load(file)\n",
    "    bp_params['carry'] = bp_test_carry['carry']\n",
    "    with open('./tmp/ostl_model_{}'.format(number),'rb') as file:\n",
    "        ostl_params = pickle.load(file)\n",
    "    ostl_params['params'] = tree_unflatten(struct,tree_leaves(ostl_params['params']))\n",
    "    ostl_params['carry'] = bp_test_carry['carry']\n",
    "    with open('./tmp/ottt_model_{}'.format(number),'rb') as file:\n",
    "        ottt_params = pickle.load(file)\n",
    "    ottt_params['params'] = tree_unflatten(struct,tree_leaves(ottt_params['params']))\n",
    "    ottt_params['carry'] = bp_test_carry['carry']\n",
    "    with open('./tmp/otpe_model_{}'.format(number),'rb') as file:\n",
    "        otpe_params = pickle.load(file)\n",
    "    otpe_params['params'] = tree_unflatten(struct,tree_leaves(otpe_params['params']))\n",
    "    otpe_params['carry'] = bp_test_carry['carry']\n",
    "    with open('./tmp/rtrl_model_{}'.format(number),'rb') as file:\n",
    "        rtrl_params = pickle.load(file)\n",
    "    rtrl_params['params'] = tree_unflatten(struct,tree_leaves(rtrl_params['params']))\n",
    "    rtrl_params['carry'] = bp_test_carry['carry']\n",
    "    return [ostl_params,bp_params,rtrl_params][::-1][:2]"
   ]
  },
  {
   "cell_type": "code",
   "execution_count": null,
   "metadata": {},
   "outputs": [],
   "source": [
    "get_loss(load_params(3)[0])"
   ]
  },
  {
   "cell_type": "code",
   "execution_count": null,
   "metadata": {},
   "outputs": [],
   "source": [
    "sl.gen_loss_landscape(get_loss,load_params,6,2)\n",
    "plt.legend(['OSTL','BPTT','RTRL'][::-1],fontsize=25)\n",
    "plt.savefig('ll.pdf')"
   ]
  }
 ],
 "metadata": {
  "kernelspec": {
   "display_name": "snn",
   "language": "python",
   "name": "python3"
  },
  "language_info": {
   "codemirror_mode": {
    "name": "ipython",
    "version": 3
   },
   "file_extension": ".py",
   "mimetype": "text/x-python",
   "name": "python",
   "nbconvert_exporter": "python",
   "pygments_lexer": "ipython3",
   "version": "3.12.5"
  }
 },
 "nbformat": 4,
 "nbformat_minor": 4
}
