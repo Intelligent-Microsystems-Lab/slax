{
 "cells": [
  {
   "cell_type": "code",
   "execution_count": 1,
   "metadata": {},
   "outputs": [],
   "source": [
    "import flax.linen as nn\n",
    "import jax\n",
    "import jax.numpy as jnp\n",
    "import nir\n",
    "from primitives.linear import nir_dense\n",
    "import slax as sl\n"
   ]
  },
  {
   "cell_type": "code",
   "execution_count": 2,
   "metadata": {},
   "outputs": [
    {
     "name": "stderr",
     "output_type": "stream",
     "text": [
      "Platform 'METAL' is experimental and not all JAX functionality may be correctly supported!\n"
     ]
    },
    {
     "name": "stdout",
     "output_type": "stream",
     "text": [
      "Metal device set to: Apple M3 Max\n",
      "\n",
      "systemMemory: 48.00 GB\n",
      "maxCacheSize: 18.00 GB\n",
      "\n"
     ]
    },
    {
     "name": "stderr",
     "output_type": "stream",
     "text": [
      "WARNING: All log messages before absl::InitializeLog() is called are written to STDERR\n",
      "W0000 00:00:1716983996.791403 3391838 mps_client.cc:510] WARNING: JAX Apple GPU support is experimental and not all JAX functionality is correctly supported!\n",
      "I0000 00:00:1716983996.807963 3391838 service.cc:145] XLA service 0x37b82cd40 initialized for platform METAL (this does not guarantee that XLA will be used). Devices:\n",
      "I0000 00:00:1716983996.807981 3391838 service.cc:153]   StreamExecutor device (0): Metal, <undefined>\n",
      "I0000 00:00:1716983996.811581 3391838 mps_client.cc:406] Using Simple allocator.\n",
      "I0000 00:00:1716983996.811590 3391838 mps_client.cc:384] XLA backend will use up to 38652919808 bytes on device 0 for SimpleAllocator.\n"
     ]
    }
   ],
   "source": [
    "key = jax.random.PRNGKey(0)"
   ]
  },
  {
   "cell_type": "code",
   "execution_count": 3,
   "metadata": {},
   "outputs": [],
   "source": [
    "model = nn.Dense(10)\n",
    "params = model.init(key,jnp.zeros(5))"
   ]
  },
  {
   "cell_type": "code",
   "execution_count": 4,
   "metadata": {},
   "outputs": [],
   "source": [
    "snn = sl.LIF(trainable_tau=True)\n",
    "p = snn.init(key,jnp.zeros(10))"
   ]
  },
  {
   "cell_type": "code",
   "execution_count": 6,
   "metadata": {},
   "outputs": [
    {
     "data": {
      "text/plain": [
       "LIF(tau=array([0.00083891, 0.00083891, 0.00083891, 0.00083891, 0.00083891,\n",
       "       0.00083891, 0.00083891, 0.00083891, 0.00083891, 0.00083891]), r=array([8.38905262, 8.38905262, 8.38905262, 8.38905262, 8.38905262,\n",
       "       8.38905262, 8.38905262, 8.38905262, 8.38905262, 8.38905262]), v_leak=array([0., 0., 0., 0., 0., 0., 0., 0., 0., 0.]), v_threshold=array([1., 1., 1., 1., 1., 1., 1., 1., 1., 1.]), input_type={'input': array([10])}, output_type={'output': array([10])}, metadata={})"
      ]
     },
     "execution_count": 6,
     "metadata": {},
     "output_type": "execute_result"
    }
   ],
   "source": [
    "snn.output_nir(p,10)"
   ]
  },
  {
   "cell_type": "code",
   "execution_count": 8,
   "metadata": {},
   "outputs": [
    {
     "data": {
      "text/plain": [
       "Affine(weight=array([[-0.8631386 ,  0.04482556, -0.18629734,  0.23654005,  0.16512212,\n",
       "        -0.33307835,  0.05198253, -0.23677951,  0.3617952 , -0.56754297],\n",
       "       [ 0.55569637, -0.18731873, -0.5392705 , -0.17441264, -0.5452413 ,\n",
       "        -0.38101745, -0.20859121,  0.41363123, -0.21474728,  0.02611165],\n",
       "       [ 0.20767397, -0.2542843 ,  0.05753968, -0.46153724, -0.11138387,\n",
       "        -0.9139171 , -0.03682354,  0.78092575, -0.02346021,  0.14584754],\n",
       "       [ 0.6710683 , -0.7613203 ,  0.06161413,  0.06339008, -0.37898958,\n",
       "        -0.3444538 , -0.2719327 ,  0.40892825, -0.78235644,  0.09507109],\n",
       "       [-0.62619174,  0.06378803,  0.33668253, -0.45808083, -0.10218532,\n",
       "         0.13972345,  0.4293874 , -0.4503012 ,  0.20378473, -0.34195298]],\n",
       "      dtype=float32), bias=array([0., 0., 0., 0., 0., 0., 0., 0., 0., 0.], dtype=float32))"
      ]
     },
     "execution_count": 8,
     "metadata": {},
     "output_type": "execute_result"
    }
   ],
   "source": [
    "nir_dense(model,params)"
   ]
  },
  {
   "cell_type": "code",
   "execution_count": null,
   "metadata": {},
   "outputs": [],
   "source": []
  }
 ],
 "metadata": {
  "kernelspec": {
   "display_name": "jax",
   "language": "python",
   "name": "python3"
  },
  "language_info": {
   "codemirror_mode": {
    "name": "ipython",
    "version": 3
   },
   "file_extension": ".py",
   "mimetype": "text/x-python",
   "name": "python",
   "nbconvert_exporter": "python",
   "pygments_lexer": "ipython3",
   "version": "3.11.9"
  }
 },
 "nbformat": 4,
 "nbformat_minor": 2
}
